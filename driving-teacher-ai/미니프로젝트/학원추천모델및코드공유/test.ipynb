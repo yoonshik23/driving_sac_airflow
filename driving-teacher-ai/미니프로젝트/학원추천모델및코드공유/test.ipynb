{
 "cells": [
  {
   "cell_type": "code",
   "execution_count": 1,
   "id": "7daaaa2b-b02b-48a3-b62e-488eb0cabf37",
   "metadata": {},
   "outputs": [],
   "source": [
    "# pip install pandas==2.2.1 scikit-learn==1.3.0"
   ]
  },
  {
   "cell_type": "code",
   "execution_count": 2,
   "id": "95484c04-3bd0-408b-b077-7202d7dc2016",
   "metadata": {},
   "outputs": [],
   "source": [
    "# '가격', '서비스점수', '강의점수', '시설점수', '거리'"
   ]
  },
  {
   "cell_type": "code",
   "execution_count": 3,
   "id": "561ffdb7-4935-449e-8bc7-76810924c798",
   "metadata": {},
   "outputs": [],
   "source": [
    "from recommendation import recommend\n",
    "# lat = 36, long = 127"
   ]
  },
  {
   "cell_type": "code",
   "execution_count": 7,
   "id": "5ff27543-dc16-4057-b3e6-6375fa66e04f",
   "metadata": {},
   "outputs": [
    {
     "data": {
      "text/plain": [
       "'YNwzLg7D7cydDUHkSTUS'"
      ]
     },
     "execution_count": 7,
     "metadata": {},
     "output_type": "execute_result"
    }
   ],
   "source": [
    "result = recommend(location = (35.8839895, 128.6244826), selected_columns = ['가격'])\n",
    "result"
   ]
  },
  {
   "cell_type": "code",
   "execution_count": 8,
   "id": "4e313c8b-b80e-4937-aa71-0682a10f20e7",
   "metadata": {},
   "outputs": [],
   "source": [
    "# import pandas as pd\n",
    "# 학원data = pd.read_csv('./models/academy_data.csv', index_col = 0)\n",
    "# 학원data = 학원data[학원data['state']==1]"
   ]
  },
  {
   "cell_type": "code",
   "execution_count": 9,
   "id": "d9b9b372-fe34-4af5-9ad4-104e70effdb8",
   "metadata": {},
   "outputs": [],
   "source": [
    "# 학원data[학원data['academy_id'] == result]"
   ]
  },
  {
   "cell_type": "code",
   "execution_count": null,
   "id": "274844ae-04f4-4339-b91d-2a850dee9499",
   "metadata": {},
   "outputs": [],
   "source": []
  }
 ],
 "metadata": {
  "kernelspec": {
   "display_name": "dev1",
   "language": "python",
   "name": "dev1"
  },
  "language_info": {
   "codemirror_mode": {
    "name": "ipython",
    "version": 3
   },
   "file_extension": ".py",
   "mimetype": "text/x-python",
   "name": "python",
   "nbconvert_exporter": "python",
   "pygments_lexer": "ipython3",
   "version": "3.11.9"
  }
 },
 "nbformat": 4,
 "nbformat_minor": 5
}
