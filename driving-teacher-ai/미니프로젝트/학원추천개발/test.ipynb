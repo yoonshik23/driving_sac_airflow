{
 "cells": [
  {
   "cell_type": "code",
   "execution_count": 1,
   "id": "7daaaa2b-b02b-48a3-b62e-488eb0cabf37",
   "metadata": {},
   "outputs": [],
   "source": [
    "# pip install pandas==2.2.1 scikit-learn==1.3.0"
   ]
  },
  {
   "cell_type": "code",
   "execution_count": 2,
   "id": "561ffdb7-4935-449e-8bc7-76810924c798",
   "metadata": {},
   "outputs": [],
   "source": [
    "from recommendation import recommend\n",
    "# lat = 36, long = 127"
   ]
  },
  {
   "cell_type": "code",
   "execution_count": 3,
   "id": "5ff27543-dc16-4057-b3e6-6375fa66e04f",
   "metadata": {},
   "outputs": [
    {
     "name": "stderr",
     "output_type": "stream",
     "text": [
      "/home/yspark/miniconda3/envs/test/lib/python3.9/site-packages/sklearn/base.py:457: UserWarning: X has feature names, but RandomForestClassifier was fitted without feature names\n",
      "  warnings.warn(\n"
     ]
    },
    {
     "data": {
      "text/plain": [
       "'hnZqfcO3MsDd5ATKKuGu'"
      ]
     },
     "execution_count": 3,
     "metadata": {},
     "output_type": "execute_result"
    }
   ],
   "source": [
    "recommend(location = (36, 127), selected_columns = ['가격', '서비스점수'])"
   ]
  }
 ],
 "metadata": {
  "kernelspec": {
   "display_name": "test",
   "language": "python",
   "name": "test"
  },
  "language_info": {
   "codemirror_mode": {
    "name": "ipython",
    "version": 3
   },
   "file_extension": ".py",
   "mimetype": "text/x-python",
   "name": "python",
   "nbconvert_exporter": "python",
   "pygments_lexer": "ipython3",
   "version": "3.9.19"
  }
 },
 "nbformat": 4,
 "nbformat_minor": 5
}
