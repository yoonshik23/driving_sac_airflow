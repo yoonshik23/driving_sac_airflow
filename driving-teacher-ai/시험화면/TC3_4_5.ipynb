{
 "cells": [
  {
   "cell_type": "code",
   "execution_count": 1,
   "id": "c908199e-11b9-416a-b147-d84a3ca15091",
   "metadata": {},
   "outputs": [
    {
     "name": "stderr",
     "output_type": "stream",
     "text": [
      "/home/info/miniconda3/envs/dev10/lib/python3.9/site-packages/tqdm/auto.py:21: TqdmWarning: IProgress not found. Please update jupyter and ipywidgets. See https://ipywidgets.readthedocs.io/en/stable/user_install.html\n",
      "  from .autonotebook import tqdm as notebook_tqdm\n",
      "2024-08-30 02:00:34,934\tINFO util.py:154 -- Missing packages: ['ipywidgets']. Run `pip install -U ipywidgets`, then restart the notebook server for rich notebook output.\n"
     ]
    },
    {
     "data": {
      "text/plain": [
       "'2.35.0'"
      ]
     },
     "execution_count": 1,
     "metadata": {},
     "output_type": "execute_result"
    }
   ],
   "source": [
    "import ray\n",
    "ray.__version__"
   ]
  },
  {
   "cell_type": "code",
   "execution_count": 10,
   "id": "988bbf03-c791-46d4-8107-7ed2d6213264",
   "metadata": {},
   "outputs": [
    {
     "name": "stdout",
     "output_type": "stream",
     "text": [
      "Python 3.12.4\n"
     ]
    }
   ],
   "source": [
    "\n",
    "!python --version"
   ]
  },
  {
   "cell_type": "code",
   "execution_count": 5,
   "id": "5c647fa9-ed33-492a-b773-ab22d7ded17c",
   "metadata": {
    "scrolled": true
   },
   "outputs": [
    {
     "data": {
      "text/plain": [
       "'/home/info/airflow-docker/dags/model_train_deploy/model/4/best_model.torch'"
      ]
     },
     "execution_count": 5,
     "metadata": {},
     "output_type": "execute_result"
    }
   ],
   "source": [
    "from lib.db_io import Engine\n",
    "\n",
    "import pandas as pd\n",
    "import numpy as np\n",
    "import glob\n",
    "import warnings\n",
    "warnings.filterwarnings(action='ignore')\n",
    "\n",
    "db_info = {'host': '34.123.100.177',\n",
    "          'port': '5432',\n",
    "          'db_name': 'postgres',\n",
    "          'user_name': 'tgsociety',\n",
    "          'password': 'tgsociety'}\n",
    "\n",
    "\n",
    "engine = Engine(db_info)\n",
    "\n",
    "data = engine.select(table = 'history_학습id', schema='datamart', columns = ['train_id']\n",
    "                     # , wheres = wheres\n",
    "                     , orderbys = ['\"등록일시\" desc'])\n",
    "train_id = data.loc[0,'train_id'].item()\n",
    "path = glob.glob('/home/info/airflow-docker/dags/model_train_deploy/model/{}/*'.format(str(train_id)))[0]\n",
    "path"
   ]
  },
  {
   "cell_type": "code",
   "execution_count": 6,
   "id": "3a55cba5-4472-411d-a583-b64f02e2148e",
   "metadata": {},
   "outputs": [
    {
     "data": {
      "text/plain": [
       "4"
      ]
     },
     "execution_count": 6,
     "metadata": {},
     "output_type": "execute_result"
    }
   ],
   "source": [
    "train_id"
   ]
  },
  {
   "cell_type": "code",
   "execution_count": 7,
   "id": "8a1a6859-afe7-44f9-a8a0-8a3537aae2ee",
   "metadata": {
    "scrolled": true
   },
   "outputs": [
    {
     "ename": "RuntimeError",
     "evalue": "Error(s) in loading state_dict for Actor:\n\tsize mismatch for flatten_variable.weight: copying a param with shape torch.Size([256, 375]) from checkpoint, the shape in current model is torch.Size([256, 525]).",
     "output_type": "error",
     "traceback": [
      "\u001b[0;31m---------------------------------------------------------------------------\u001b[0m",
      "\u001b[0;31mRuntimeError\u001b[0m                              Traceback (most recent call last)",
      "Cell \u001b[0;32mIn[7], line 36\u001b[0m\n\u001b[1;32m     24\u001b[0m simulators\u001b[38;5;241m.\u001b[39mappend(Simulator_01(\n\u001b[1;32m     25\u001b[0m                              simulation_start_dt \u001b[38;5;241m=\u001b[39m simulation_start_dt, \n\u001b[1;32m     26\u001b[0m                              simulation_end_dt \u001b[38;5;241m=\u001b[39m simulation_end_dt,\n\u001b[0;32m   (...)\u001b[0m\n\u001b[1;32m     30\u001b[0m                              is_first \u001b[38;5;241m=\u001b[39m \u001b[38;5;28;01mTrue\u001b[39;00m,\n\u001b[1;32m     31\u001b[0m                             시군구_ids \u001b[38;5;241m=\u001b[39m [\u001b[38;5;124m'\u001b[39m\u001b[38;5;124m11220\u001b[39m\u001b[38;5;124m'\u001b[39m, \u001b[38;5;124m'\u001b[39m\u001b[38;5;124m11230\u001b[39m\u001b[38;5;124m'\u001b[39m, \u001b[38;5;124m'\u001b[39m\u001b[38;5;124m11240\u001b[39m\u001b[38;5;124m'\u001b[39m], 차량숫자 \u001b[38;5;241m=\u001b[39m \u001b[38;5;241m15\u001b[39m, try_num \u001b[38;5;241m=\u001b[39m try_num, mode \u001b[38;5;241m=\u001b[39m \u001b[38;5;124m'\u001b[39m\u001b[38;5;124moffline_optimal\u001b[39m\u001b[38;5;124m'\u001b[39m))\n\u001b[1;32m     35\u001b[0m agent \u001b[38;5;241m=\u001b[39m SACAgent(action_dim \u001b[38;5;241m=\u001b[39m action_dim, hidden_dim \u001b[38;5;241m=\u001b[39m hidden_dim, lr \u001b[38;5;241m=\u001b[39m lr,  device \u001b[38;5;241m=\u001b[39m device, num_cars \u001b[38;5;241m=\u001b[39m \u001b[38;5;28mlen\u001b[39m(simulators[try_num]\u001b[38;5;241m.\u001b[39m차량데이터))\n\u001b[0;32m---> 36\u001b[0m \u001b[43magent\u001b[49m\u001b[38;5;241;43m.\u001b[39;49m\u001b[43mload_model\u001b[49m\u001b[43m(\u001b[49m\u001b[43mpath\u001b[49m\u001b[43m \u001b[49m\u001b[38;5;241;43m=\u001b[39;49m\u001b[43m \u001b[49m\u001b[43mpath\u001b[49m\u001b[43m)\u001b[49m\n\u001b[1;32m     38\u001b[0m state \u001b[38;5;241m=\u001b[39m simulators[try_num]\u001b[38;5;241m.\u001b[39mreset(선택최적 \u001b[38;5;241m=\u001b[39m \u001b[38;5;241m0\u001b[39m, 선택rule \u001b[38;5;241m=\u001b[39m \u001b[38;5;124m'\u001b[39m\u001b[38;5;124mruleX\u001b[39m\u001b[38;5;124m'\u001b[39m, mode \u001b[38;5;241m=\u001b[39m \u001b[38;5;124m'\u001b[39m\u001b[38;5;124moffline_optimal\u001b[39m\u001b[38;5;124m'\u001b[39m)\n\u001b[1;32m     39\u001b[0m done \u001b[38;5;241m=\u001b[39m \u001b[38;5;28;01mFalse\u001b[39;00m\n",
      "File \u001b[0;32m~/driving-teacher-ai/시험화면/lib/sac_lstm.py:523\u001b[0m, in \u001b[0;36mSACAgent.load_model\u001b[0;34m(self, path)\u001b[0m\n\u001b[1;32m    521\u001b[0m \u001b[38;5;28;01mdef\u001b[39;00m \u001b[38;5;21mload_model\u001b[39m(\u001b[38;5;28mself\u001b[39m, path):\n\u001b[1;32m    522\u001b[0m     checkpoint \u001b[38;5;241m=\u001b[39m torch\u001b[38;5;241m.\u001b[39mload(path)\n\u001b[0;32m--> 523\u001b[0m     \u001b[38;5;28;43mself\u001b[39;49m\u001b[38;5;241;43m.\u001b[39;49m\u001b[43mactor\u001b[49m\u001b[38;5;241;43m.\u001b[39;49m\u001b[43mload_state_dict\u001b[49m\u001b[43m(\u001b[49m\u001b[43mcheckpoint\u001b[49m\u001b[43m[\u001b[49m\u001b[38;5;124;43m'\u001b[39;49m\u001b[38;5;124;43mactor_state_dict\u001b[39;49m\u001b[38;5;124;43m'\u001b[39;49m\u001b[43m]\u001b[49m\u001b[43m)\u001b[49m\n\u001b[1;32m    524\u001b[0m     \u001b[38;5;28mself\u001b[39m\u001b[38;5;241m.\u001b[39mcritic1\u001b[38;5;241m.\u001b[39mload_state_dict(checkpoint[\u001b[38;5;124m'\u001b[39m\u001b[38;5;124mcritic1_state_dict\u001b[39m\u001b[38;5;124m'\u001b[39m])\n\u001b[1;32m    525\u001b[0m     \u001b[38;5;28mself\u001b[39m\u001b[38;5;241m.\u001b[39mcritic2\u001b[38;5;241m.\u001b[39mload_state_dict(checkpoint[\u001b[38;5;124m'\u001b[39m\u001b[38;5;124mcritic2_state_dict\u001b[39m\u001b[38;5;124m'\u001b[39m])\n",
      "File \u001b[0;32m~/miniconda3/envs/dev10/lib/python3.9/site-packages/torch/nn/modules/module.py:2215\u001b[0m, in \u001b[0;36mModule.load_state_dict\u001b[0;34m(self, state_dict, strict, assign)\u001b[0m\n\u001b[1;32m   2210\u001b[0m         error_msgs\u001b[38;5;241m.\u001b[39minsert(\n\u001b[1;32m   2211\u001b[0m             \u001b[38;5;241m0\u001b[39m, \u001b[38;5;124m'\u001b[39m\u001b[38;5;124mMissing key(s) in state_dict: \u001b[39m\u001b[38;5;132;01m{}\u001b[39;00m\u001b[38;5;124m. \u001b[39m\u001b[38;5;124m'\u001b[39m\u001b[38;5;241m.\u001b[39mformat(\n\u001b[1;32m   2212\u001b[0m                 \u001b[38;5;124m'\u001b[39m\u001b[38;5;124m, \u001b[39m\u001b[38;5;124m'\u001b[39m\u001b[38;5;241m.\u001b[39mjoin(\u001b[38;5;124mf\u001b[39m\u001b[38;5;124m'\u001b[39m\u001b[38;5;124m\"\u001b[39m\u001b[38;5;132;01m{\u001b[39;00mk\u001b[38;5;132;01m}\u001b[39;00m\u001b[38;5;124m\"\u001b[39m\u001b[38;5;124m'\u001b[39m \u001b[38;5;28;01mfor\u001b[39;00m k \u001b[38;5;129;01min\u001b[39;00m missing_keys)))\n\u001b[1;32m   2214\u001b[0m \u001b[38;5;28;01mif\u001b[39;00m \u001b[38;5;28mlen\u001b[39m(error_msgs) \u001b[38;5;241m>\u001b[39m \u001b[38;5;241m0\u001b[39m:\n\u001b[0;32m-> 2215\u001b[0m     \u001b[38;5;28;01mraise\u001b[39;00m \u001b[38;5;167;01mRuntimeError\u001b[39;00m(\u001b[38;5;124m'\u001b[39m\u001b[38;5;124mError(s) in loading state_dict for \u001b[39m\u001b[38;5;132;01m{}\u001b[39;00m\u001b[38;5;124m:\u001b[39m\u001b[38;5;130;01m\\n\u001b[39;00m\u001b[38;5;130;01m\\t\u001b[39;00m\u001b[38;5;132;01m{}\u001b[39;00m\u001b[38;5;124m'\u001b[39m\u001b[38;5;241m.\u001b[39mformat(\n\u001b[1;32m   2216\u001b[0m                        \u001b[38;5;28mself\u001b[39m\u001b[38;5;241m.\u001b[39m\u001b[38;5;18m__class__\u001b[39m\u001b[38;5;241m.\u001b[39m\u001b[38;5;18m__name__\u001b[39m, \u001b[38;5;124m\"\u001b[39m\u001b[38;5;130;01m\\n\u001b[39;00m\u001b[38;5;130;01m\\t\u001b[39;00m\u001b[38;5;124m\"\u001b[39m\u001b[38;5;241m.\u001b[39mjoin(error_msgs)))\n\u001b[1;32m   2217\u001b[0m \u001b[38;5;28;01mreturn\u001b[39;00m _IncompatibleKeys(missing_keys, unexpected_keys)\n",
      "\u001b[0;31mRuntimeError\u001b[0m: Error(s) in loading state_dict for Actor:\n\tsize mismatch for flatten_variable.weight: copying a param with shape torch.Size([256, 375]) from checkpoint, the shape in current model is torch.Size([256, 525])."
     ]
    }
   ],
   "source": [
    "from lib.sac_lstm import SACAgent\n",
    "from lib.simulator_03 import Simulator_01\n",
    "import time\n",
    "\n",
    "# Hyperparameters\n",
    "action_dim = 25\n",
    "hidden_dim = 256\n",
    "lr = 3e-4\n",
    "batch_size = 64\n",
    "num_episodes = 1000\n",
    "device = 'cpu'\n",
    "\n",
    "\n",
    "simulation_start_dt = '2025-02-01 07:00:00+09'\n",
    "simulation_end_dt = '2025-03-31 23:00:00+09'\n",
    "\n",
    "data_start_date = '2022-09-01 07:00:00+09'\n",
    "data_end_date = '2024-09-01 23:00:00+09'\n",
    "\n",
    "simulators = []\n",
    "모델응답속도s = []\n",
    "for try_num in range(3):\n",
    "    모델응답속도s.append([])\n",
    "    simulators.append(Simulator_01(\n",
    "                                 simulation_start_dt = simulation_start_dt, \n",
    "                                 simulation_end_dt = simulation_end_dt,\n",
    "        data_start_date = data_start_date,\n",
    "                                 data_end_date = data_end_date,\n",
    "                                 db_info = db_info,\n",
    "                                 is_first = True,\n",
    "                                시군구_ids = ['11220', '11230', '11240'], 차량숫자 = 15, try_num = try_num, mode = 'offline_optimal'))\n",
    "    \n",
    "    \n",
    "    \n",
    "    agent = SACAgent(action_dim = action_dim, hidden_dim = hidden_dim, lr = lr,  device = device, num_cars = len(simulators[try_num].차량데이터))\n",
    "    agent.load_model(path = path)\n",
    "    \n",
    "    state = simulators[try_num].reset(선택최적 = 0, 선택rule = 'ruleX', mode = 'offline_optimal')\n",
    "    done = False\n",
    "\n",
    "    day_경과 = 0\n",
    "    while simulators[try_num].simulation_done == False:\n",
    "        st = time.time()\n",
    "        actions = agent.select_action(state)\n",
    "        모델응답속도s[try_num].append(time.time() - st)\n",
    "        next_state, reward, done = simulators[try_num].step(actions)\n",
    "        \n",
    "        if (done[0] == 1):\n",
    "            day_경과 += 1\n",
    "    \n",
    "        state = next_state\n",
    "\n"
   ]
  },
  {
   "cell_type": "code",
   "execution_count": null,
   "id": "b9c922a2-7f63-4a12-b435-e53d5cde7789",
   "metadata": {},
   "outputs": [],
   "source": [
    "최적대비성능비율s = []\n",
    "for i in range(3):\n",
    "    print('시행 {}'.format(i))\n",
    "    수업수_총합 = np.sum(list(simulators[i].일자별_수업수.values()))\n",
    "    차량대수_총합 = np.sum(list(simulators[i].일자별_가동차량수.values()))\n",
    "    최적_수업수_총합 = np.sum(list(simulators[i].일자별_최적_수업수.values()))\n",
    "    최적_차량대수_총합 = np.sum(list(simulators[i].일자별_최적_가동차량수.values()))\n",
    "    \n",
    "    print('강화학습 성능: {}'.format(수업수_총합 / 차량대수_총합))\n",
    "    print('사후최적 성능: {}'.format(최적_수업수_총합 / 최적_차량대수_총합))\n",
    "    최적대비성능비율s.append((수업수_총합 / 차량대수_총합) / (최적_수업수_총합 / 최적_차량대수_총합))\n",
    "    print('최적대비성능비율: {}'.format(최적대비성능비율s[-1]))\n",
    "print('평균: {}'.format(np.mean(최적대비성능비율s)))"
   ]
  },
  {
   "cell_type": "code",
   "execution_count": null,
   "id": "a021ba18-f5f2-47bc-bb05-d84407c5f2a1",
   "metadata": {},
   "outputs": [],
   "source": [
    "차량배정모델성능s = []\n",
    "for i in range(3):\n",
    "    print('시행 {}'.format(i))\n",
    "    차량배정모델성능s.append(np.sum(list(simulators[i].일자별_차량당_이동거리.values())) / len(simulators[i].일자별_차량당_이동거리))\n",
    "    print('차량배정모델성능: {}'.format(차량배정모델성능s[-1]))\n",
    "print('평균: {}'.format(np.mean(차량배정모델성능s)))"
   ]
  },
  {
   "cell_type": "code",
   "execution_count": null,
   "id": "baae6b68-8b8a-42b4-b39e-464644b6fdfc",
   "metadata": {},
   "outputs": [],
   "source": [
    "tmp = []\n",
    "for i in range(3):\n",
    "    print('시행 {}'.format(i))\n",
    "    print('차량배정모델성능: {}'.format(np.mean(simulators[i].모델_응답속도)))\n",
    "    tmp += simulators[i].모델_응답속도\n",
    "print('평균: {}'.format(np.mean(tmp)))"
   ]
  },
  {
   "cell_type": "code",
   "execution_count": null,
   "id": "772452da-b37d-404e-ab8d-3ec3f87836f5",
   "metadata": {},
   "outputs": [],
   "source": [
    "simulator.mode"
   ]
  },
  {
   "cell_type": "code",
   "execution_count": null,
   "id": "e5bef33b-6699-4411-bdac-3d9e96c4ad31",
   "metadata": {},
   "outputs": [],
   "source": [
    "asdg"
   ]
  },
  {
   "cell_type": "code",
   "execution_count": null,
   "id": "844e8df5-81ac-4380-bb30-9282d9fbe5ef",
   "metadata": {
    "scrolled": true
   },
   "outputs": [],
   "source": [
    "state = simulator.reset(선택최적 = 0, 선택rule = 'ruleX')\n",
    "done = False\n",
    "episode_reward = 0\n",
    "day_경과 = 0\n",
    "while simulator.simulation_done == False:\n",
    "    actions = agent.select_action(state)\n",
    "    next_state, reward, done = simulator.step(actions)\n",
    "    \n",
    "    if (done[0] == 1):\n",
    "        day_경과 += 1\n",
    "\n",
    "    state = next_state\n",
    "    episode_reward += reward[0]"
   ]
  },
  {
   "cell_type": "code",
   "execution_count": null,
   "id": "9eb87df7-653b-49f1-bc8d-af691c3a1fae",
   "metadata": {},
   "outputs": [],
   "source": [
    "self.일자별_최적_수업수 = {}\n",
    "self.일자별_최적_가동차량수 = {}\n",
    "self.일자별_수업수 = {}\n",
    "self.일자별_가동차량수 = {}"
   ]
  },
  {
   "cell_type": "code",
   "execution_count": null,
   "id": "872fdc8f-f246-43f7-8528-f1ea95f07539",
   "metadata": {
    "scrolled": true
   },
   "outputs": [],
   "source": [
    "\n",
    "import pandas as pd\n",
    "import numpy as np\n",
    "import os\n",
    "import sys\n",
    "from scipy.stats import ks_2samp\n",
    "from lib.utils import 구분데이터붙이기, 군집나누기\n",
    "\n",
    "\n",
    "st_dt = '2022-10-01 07:00:00+09'\n",
    "ed_dt = '2024-08-21 23:00:00+09'\n",
    "\n",
    "for try_num in range(3):\n",
    "    simulator = Simulator_01(\n",
    "                                 simulation_start_dt = st_dt, \n",
    "                                 simulation_end_dt = ed_dt,\n",
    "        data_start_date = st_dt,\n",
    "                                 data_end_date = ed_dt,\n",
    "                                 db_info = db_info,\n",
    "                                 is_first = True,\n",
    "                                시군구_ids = ['11220', '11230', '11240'], 차량숫자 = 15, try_num = try_num)\n"
   ]
  },
  {
   "cell_type": "code",
   "execution_count": null,
   "id": "797b6486-923b-4560-b8b2-d357bcda1c8a",
   "metadata": {},
   "outputs": [],
   "source": [
    "\n"
   ]
  },
  {
   "cell_type": "code",
   "execution_count": null,
   "id": "b4c6f5f5-6f1c-4a42-9df0-e7f3357ff6c4",
   "metadata": {},
   "outputs": [],
   "source": [
    "ks_2samp(ref_counts_list, cur_counts_list)[1].item()"
   ]
  },
  {
   "cell_type": "code",
   "execution_count": null,
   "id": "db66881c-e54c-4302-9fc5-67648c96c5a3",
   "metadata": {
    "scrolled": true
   },
   "outputs": [],
   "source": [
    "p_values"
   ]
  },
  {
   "cell_type": "code",
   "execution_count": null,
   "id": "7de4ea8f-1f0b-4f4d-9e4c-359b98ccb28b",
   "metadata": {
    "scrolled": true
   },
   "outputs": [],
   "source": [
    "len(list(군집_cur_data))"
   ]
  },
  {
   "cell_type": "code",
   "execution_count": null,
   "id": "4068a765-b2fa-4579-b25d-7745232c7da5",
   "metadata": {
    "scrolled": true
   },
   "outputs": [],
   "source": [
    "군집_ref_data"
   ]
  },
  {
   "cell_type": "code",
   "execution_count": null,
   "id": "ddd324f9-c344-4b6b-b0f5-5671ce0c1bf1",
   "metadata": {},
   "outputs": [],
   "source": []
  },
  {
   "cell_type": "code",
   "execution_count": null,
   "id": "e7942d86-7b18-45ce-baec-71a92f3a0e7b",
   "metadata": {},
   "outputs": [],
   "source": []
  },
  {
   "cell_type": "code",
   "execution_count": null,
   "id": "e8899d30-748c-4159-b75f-5b34888b4c08",
   "metadata": {},
   "outputs": [],
   "source": []
  }
 ],
 "metadata": {
  "kernelspec": {
   "display_name": "dev10",
   "language": "python",
   "name": "dev10"
  },
  "language_info": {
   "codemirror_mode": {
    "name": "ipython",
    "version": 3
   },
   "file_extension": ".py",
   "mimetype": "text/x-python",
   "name": "python",
   "nbconvert_exporter": "python",
   "pygments_lexer": "ipython3",
   "version": "3.9.19"
  }
 },
 "nbformat": 4,
 "nbformat_minor": 5
}
