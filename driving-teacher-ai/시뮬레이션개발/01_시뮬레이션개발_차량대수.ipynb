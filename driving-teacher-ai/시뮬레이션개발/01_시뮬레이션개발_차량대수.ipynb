{
 "cells": [
  {
   "cell_type": "code",
   "execution_count": 1,
   "id": "f3fba629-ae7f-4e68-aca0-b51a36b2dd72",
   "metadata": {},
   "outputs": [],
   "source": [
    "# conda install pandas geopandas sqlalchemy\n",
    "# pip install pytimekr"
   ]
  },
  {
   "cell_type": "code",
   "execution_count": null,
   "id": "51d1a7f5-50df-4458-9011-13f25bf1294a",
   "metadata": {},
   "outputs": [],
   "source": []
  },
  {
   "cell_type": "code",
   "execution_count": 2,
   "id": "1491b03b-6c73-4854-818b-6694f9453e94",
   "metadata": {
    "scrolled": true
   },
   "outputs": [],
   "source": [
    "from src.simulator_02 import Simulator_01\n",
    "import pandas as pd\n",
    "\n",
    "db_info = {'host': 'localhost',\n",
    "          'port': '5432',\n",
    "          'db_name': 'postgres',\n",
    "          'user_name': 'postgres',\n",
    "          'password': 'postgres'}\n",
    "\n",
    "\n"
   ]
  },
  {
   "cell_type": "code",
   "execution_count": null,
   "id": "0daf1fd3-7f35-48b1-b396-8bbd384ba1ac",
   "metadata": {},
   "outputs": [],
   "source": []
  },
  {
   "cell_type": "code",
   "execution_count": 3,
   "id": "4fa6be89-7cf6-4783-a838-c8719895363f",
   "metadata": {
    "scrolled": true
   },
   "outputs": [
    {
     "ename": "JSONDecodeError",
     "evalue": "Expecting value: line 1 column 1 (char 0)",
     "output_type": "error",
     "traceback": [
      "\u001b[0;31m---------------------------------------------------------------------------\u001b[0m",
      "\u001b[0;31mJSONDecodeError\u001b[0m                           Traceback (most recent call last)",
      "File \u001b[0;32m~/miniconda3/envs/tgsociety/lib/python3.9/site-packages/requests/models.py:974\u001b[0m, in \u001b[0;36mResponse.json\u001b[0;34m(self, **kwargs)\u001b[0m\n\u001b[1;32m    973\u001b[0m \u001b[38;5;28;01mtry\u001b[39;00m:\n\u001b[0;32m--> 974\u001b[0m     \u001b[38;5;28;01mreturn\u001b[39;00m \u001b[43mcomplexjson\u001b[49m\u001b[38;5;241;43m.\u001b[39;49m\u001b[43mloads\u001b[49m\u001b[43m(\u001b[49m\u001b[38;5;28;43mself\u001b[39;49m\u001b[38;5;241;43m.\u001b[39;49m\u001b[43mtext\u001b[49m\u001b[43m,\u001b[49m\u001b[43m \u001b[49m\u001b[38;5;241;43m*\u001b[39;49m\u001b[38;5;241;43m*\u001b[39;49m\u001b[43mkwargs\u001b[49m\u001b[43m)\u001b[49m\n\u001b[1;32m    975\u001b[0m \u001b[38;5;28;01mexcept\u001b[39;00m JSONDecodeError \u001b[38;5;28;01mas\u001b[39;00m e:\n\u001b[1;32m    976\u001b[0m     \u001b[38;5;66;03m# Catch JSON-related errors and raise as requests.JSONDecodeError\u001b[39;00m\n\u001b[1;32m    977\u001b[0m     \u001b[38;5;66;03m# This aliases json.JSONDecodeError and simplejson.JSONDecodeError\u001b[39;00m\n",
      "File \u001b[0;32m~/miniconda3/envs/tgsociety/lib/python3.9/json/__init__.py:346\u001b[0m, in \u001b[0;36mloads\u001b[0;34m(s, cls, object_hook, parse_float, parse_int, parse_constant, object_pairs_hook, **kw)\u001b[0m\n\u001b[1;32m    343\u001b[0m \u001b[38;5;28;01mif\u001b[39;00m (\u001b[38;5;28mcls\u001b[39m \u001b[38;5;129;01mis\u001b[39;00m \u001b[38;5;28;01mNone\u001b[39;00m \u001b[38;5;129;01mand\u001b[39;00m object_hook \u001b[38;5;129;01mis\u001b[39;00m \u001b[38;5;28;01mNone\u001b[39;00m \u001b[38;5;129;01mand\u001b[39;00m\n\u001b[1;32m    344\u001b[0m         parse_int \u001b[38;5;129;01mis\u001b[39;00m \u001b[38;5;28;01mNone\u001b[39;00m \u001b[38;5;129;01mand\u001b[39;00m parse_float \u001b[38;5;129;01mis\u001b[39;00m \u001b[38;5;28;01mNone\u001b[39;00m \u001b[38;5;129;01mand\u001b[39;00m\n\u001b[1;32m    345\u001b[0m         parse_constant \u001b[38;5;129;01mis\u001b[39;00m \u001b[38;5;28;01mNone\u001b[39;00m \u001b[38;5;129;01mand\u001b[39;00m object_pairs_hook \u001b[38;5;129;01mis\u001b[39;00m \u001b[38;5;28;01mNone\u001b[39;00m \u001b[38;5;129;01mand\u001b[39;00m \u001b[38;5;129;01mnot\u001b[39;00m kw):\n\u001b[0;32m--> 346\u001b[0m     \u001b[38;5;28;01mreturn\u001b[39;00m \u001b[43m_default_decoder\u001b[49m\u001b[38;5;241;43m.\u001b[39;49m\u001b[43mdecode\u001b[49m\u001b[43m(\u001b[49m\u001b[43ms\u001b[49m\u001b[43m)\u001b[49m\n\u001b[1;32m    347\u001b[0m \u001b[38;5;28;01mif\u001b[39;00m \u001b[38;5;28mcls\u001b[39m \u001b[38;5;129;01mis\u001b[39;00m \u001b[38;5;28;01mNone\u001b[39;00m:\n",
      "File \u001b[0;32m~/miniconda3/envs/tgsociety/lib/python3.9/json/decoder.py:337\u001b[0m, in \u001b[0;36mJSONDecoder.decode\u001b[0;34m(self, s, _w)\u001b[0m\n\u001b[1;32m    333\u001b[0m \u001b[38;5;250m\u001b[39m\u001b[38;5;124;03m\"\"\"Return the Python representation of ``s`` (a ``str`` instance\u001b[39;00m\n\u001b[1;32m    334\u001b[0m \u001b[38;5;124;03mcontaining a JSON document).\u001b[39;00m\n\u001b[1;32m    335\u001b[0m \n\u001b[1;32m    336\u001b[0m \u001b[38;5;124;03m\"\"\"\u001b[39;00m\n\u001b[0;32m--> 337\u001b[0m obj, end \u001b[38;5;241m=\u001b[39m \u001b[38;5;28;43mself\u001b[39;49m\u001b[38;5;241;43m.\u001b[39;49m\u001b[43mraw_decode\u001b[49m\u001b[43m(\u001b[49m\u001b[43ms\u001b[49m\u001b[43m,\u001b[49m\u001b[43m \u001b[49m\u001b[43midx\u001b[49m\u001b[38;5;241;43m=\u001b[39;49m\u001b[43m_w\u001b[49m\u001b[43m(\u001b[49m\u001b[43ms\u001b[49m\u001b[43m,\u001b[49m\u001b[43m \u001b[49m\u001b[38;5;241;43m0\u001b[39;49m\u001b[43m)\u001b[49m\u001b[38;5;241;43m.\u001b[39;49m\u001b[43mend\u001b[49m\u001b[43m(\u001b[49m\u001b[43m)\u001b[49m\u001b[43m)\u001b[49m\n\u001b[1;32m    338\u001b[0m end \u001b[38;5;241m=\u001b[39m _w(s, end)\u001b[38;5;241m.\u001b[39mend()\n",
      "File \u001b[0;32m~/miniconda3/envs/tgsociety/lib/python3.9/json/decoder.py:355\u001b[0m, in \u001b[0;36mJSONDecoder.raw_decode\u001b[0;34m(self, s, idx)\u001b[0m\n\u001b[1;32m    354\u001b[0m \u001b[38;5;28;01mexcept\u001b[39;00m \u001b[38;5;167;01mStopIteration\u001b[39;00m \u001b[38;5;28;01mas\u001b[39;00m err:\n\u001b[0;32m--> 355\u001b[0m     \u001b[38;5;28;01mraise\u001b[39;00m JSONDecodeError(\u001b[38;5;124m\"\u001b[39m\u001b[38;5;124mExpecting value\u001b[39m\u001b[38;5;124m\"\u001b[39m, s, err\u001b[38;5;241m.\u001b[39mvalue) \u001b[38;5;28;01mfrom\u001b[39;00m \u001b[38;5;28;01mNone\u001b[39;00m\n\u001b[1;32m    356\u001b[0m \u001b[38;5;28;01mreturn\u001b[39;00m obj, end\n",
      "\u001b[0;31mJSONDecodeError\u001b[0m: Expecting value: line 1 column 1 (char 0)",
      "\nDuring handling of the above exception, another exception occurred:\n",
      "\u001b[0;31mJSONDecodeError\u001b[0m                           Traceback (most recent call last)",
      "Cell \u001b[0;32mIn[3], line 2\u001b[0m\n\u001b[1;32m      1\u001b[0m \u001b[38;5;28;01mimport\u001b[39;00m \u001b[38;5;21;01mtime\u001b[39;00m\n\u001b[0;32m----> 2\u001b[0m simulator \u001b[38;5;241m=\u001b[39m \u001b[43mSimulator_01\u001b[49m\u001b[43m(\u001b[49m\u001b[43m위치데이터_path\u001b[49m\u001b[43m \u001b[49m\u001b[38;5;241;43m=\u001b[39;49m\u001b[43m \u001b[49m\u001b[38;5;124;43m'\u001b[39;49m\u001b[38;5;124;43m../기초작업/data/강남3구_집계구_경계_중심.pickle\u001b[39;49m\u001b[38;5;124;43m'\u001b[39;49m\u001b[43m,\u001b[49m\u001b[43m \u001b[49m\n\u001b[1;32m      3\u001b[0m \u001b[43m                         \u001b[49m\u001b[43msimulation_start_dt\u001b[49m\u001b[43m \u001b[49m\u001b[38;5;241;43m=\u001b[39;49m\u001b[43m \u001b[49m\u001b[38;5;124;43m'\u001b[39;49m\u001b[38;5;124;43m2024-05-01\u001b[39;49m\u001b[38;5;124;43m'\u001b[39;49m\u001b[43m,\u001b[49m\u001b[43m \u001b[49m\n\u001b[1;32m      4\u001b[0m \u001b[43m                         \u001b[49m\u001b[43msimulation_end_dt\u001b[49m\u001b[43m \u001b[49m\u001b[38;5;241;43m=\u001b[39;49m\u001b[43m \u001b[49m\u001b[38;5;124;43m'\u001b[39;49m\u001b[38;5;124;43m2025-08-02\u001b[39;49m\u001b[38;5;124;43m'\u001b[39;49m\u001b[43m,\u001b[49m\n\u001b[1;32m      5\u001b[0m \u001b[43m                         \u001b[49m\u001b[43mdb_info\u001b[49m\u001b[43m \u001b[49m\u001b[38;5;241;43m=\u001b[39;49m\u001b[43m \u001b[49m\u001b[43mdb_info\u001b[49m\u001b[43m,\u001b[49m\n\u001b[1;32m      6\u001b[0m \u001b[43m                         \u001b[49m\u001b[43mis_first\u001b[49m\u001b[43m \u001b[49m\u001b[38;5;241;43m=\u001b[39;49m\u001b[43m \u001b[49m\u001b[38;5;28;43;01mFalse\u001b[39;49;00m\u001b[43m,\u001b[49m\u001b[43m \u001b[49m\u001b[43mweight_학생숫자\u001b[49m\u001b[43m \u001b[49m\u001b[38;5;241;43m=\u001b[39;49m\u001b[43m \u001b[49m\u001b[38;5;241;43m1\u001b[39;49m\u001b[43m,\u001b[49m\u001b[43m \u001b[49m\u001b[43m차량숫자\u001b[49m\u001b[43m \u001b[49m\u001b[38;5;241;43m=\u001b[39;49m\u001b[43m \u001b[49m\u001b[38;5;241;43m13\u001b[39;49m\u001b[43m)\u001b[49m\n\u001b[1;32m      7\u001b[0m st \u001b[38;5;241m=\u001b[39m time\u001b[38;5;241m.\u001b[39mtime()\n\u001b[1;32m      8\u001b[0m simulator\u001b[38;5;241m.\u001b[39mreset(선택최적 \u001b[38;5;241m=\u001b[39m \u001b[38;5;241m0\u001b[39m, 선택rule \u001b[38;5;241m=\u001b[39m \u001b[38;5;124m'\u001b[39m\u001b[38;5;124mrule3\u001b[39m\u001b[38;5;124m'\u001b[39m)\n",
      "File \u001b[0;32m~/driving-teacher-ai/시뮬레이션개발/src/simulator_02.py:87\u001b[0m, in \u001b[0;36mSimulator_01.__init__\u001b[0;34m(self, 위치데이터_path, simulation_start_dt, simulation_end_dt, db_info, is_first, data_start_date, weight_학생숫자, 차량숫자)\u001b[0m\n\u001b[1;32m     84\u001b[0m         \u001b[38;5;28mself\u001b[39m\u001b[38;5;241m.\u001b[39m차량데이터\u001b[38;5;241m.\u001b[39miloc[\u001b[38;5;241m12\u001b[39m\u001b[38;5;241m+\u001b[39m_, \u001b[38;5;241m0\u001b[39m] \u001b[38;5;241m=\u001b[39m \u001b[38;5;28mstr\u001b[39m(\u001b[38;5;241m12\u001b[39m\u001b[38;5;241m+\u001b[39m_)\n\u001b[1;32m     86\u001b[0m \u001b[38;5;28mself\u001b[39m\u001b[38;5;241m.\u001b[39mweight_학생숫자 \u001b[38;5;241m=\u001b[39m weight_학생숫자\n\u001b[0;32m---> 87\u001b[0m \u001b[38;5;28;43mself\u001b[39;49m\u001b[38;5;241;43m.\u001b[39;49m\u001b[43m_04_학생_생성\u001b[49m\u001b[43m(\u001b[49m\u001b[43msimulation_start_dt\u001b[49m\u001b[43m,\u001b[49m\u001b[43m \u001b[49m\u001b[43msimulation_end_dt\u001b[49m\u001b[43m,\u001b[49m\u001b[43m \u001b[49m\u001b[43m위치_데이터\u001b[49m\u001b[43m \u001b[49m\u001b[38;5;241;43m=\u001b[39;49m\u001b[43m \u001b[49m\u001b[38;5;28;43mself\u001b[39;49m\u001b[38;5;241;43m.\u001b[39;49m\u001b[43m위치데이터\u001b[49m\u001b[43m,\u001b[49m\u001b[43m \u001b[49m\u001b[43mweight_학생숫자\u001b[49m\u001b[43m \u001b[49m\u001b[38;5;241;43m=\u001b[39;49m\u001b[43m \u001b[49m\u001b[38;5;28;43mself\u001b[39;49m\u001b[38;5;241;43m.\u001b[39;49m\u001b[43mweight_학생숫자\u001b[49m\u001b[43m)\u001b[49m\n\u001b[1;32m     88\u001b[0m \u001b[38;5;28mself\u001b[39m\u001b[38;5;241m.\u001b[39m종료일 \u001b[38;5;241m=\u001b[39m pd\u001b[38;5;241m.\u001b[39mto_datetime(simulation_end_dt)\u001b[38;5;241m.\u001b[39mtz_localize(\u001b[38;5;124m'\u001b[39m\u001b[38;5;124mAsia/Seoul\u001b[39m\u001b[38;5;124m'\u001b[39m)\n\u001b[1;32m     89\u001b[0m \u001b[38;5;66;03m# 구나 동 붙인 view에서 불러오게 수정.\u001b[39;00m\n",
      "File \u001b[0;32m~/driving-teacher-ai/시뮬레이션개발/src/simulator_02.py:880\u001b[0m, in \u001b[0;36mSimulator_01._04_학생_생성\u001b[0;34m(self, dt_start, dt_end, 위치_데이터, weight_학생숫자)\u001b[0m\n\u001b[1;32m    878\u001b[0m \u001b[38;5;28mself\u001b[39m\u001b[38;5;241m.\u001b[39m학생생성기준일시 \u001b[38;5;241m=\u001b[39m pd\u001b[38;5;241m.\u001b[39mDataFrame()\n\u001b[1;32m    879\u001b[0m \u001b[38;5;28mself\u001b[39m\u001b[38;5;241m.\u001b[39m학생생성기준일시[\u001b[38;5;124m'\u001b[39m\u001b[38;5;124m일시\u001b[39m\u001b[38;5;124m'\u001b[39m] \u001b[38;5;241m=\u001b[39m tmp\n\u001b[0;32m--> 880\u001b[0m \u001b[38;5;28mself\u001b[39m\u001b[38;5;241m.\u001b[39m학생생성기준일시 \u001b[38;5;241m=\u001b[39m \u001b[43m구분데이터붙이기\u001b[49m\u001b[43m(\u001b[49m\u001b[38;5;28;43mself\u001b[39;49m\u001b[38;5;241;43m.\u001b[39;49m\u001b[43m학생생성기준일시\u001b[49m\u001b[43m,\u001b[49m\u001b[43m \u001b[49m\u001b[38;5;124;43m'\u001b[39;49m\u001b[38;5;124;43m일시\u001b[39;49m\u001b[38;5;124;43m'\u001b[39;49m\u001b[43m)\u001b[49m\n\u001b[1;32m    882\u001b[0m date_range \u001b[38;5;241m=\u001b[39m pd\u001b[38;5;241m.\u001b[39mdate_range(start \u001b[38;5;241m=\u001b[39m pd\u001b[38;5;241m.\u001b[39mto_datetime(dt_start) \u001b[38;5;241m-\u001b[39m pd\u001b[38;5;241m.\u001b[39mTimedelta(value \u001b[38;5;241m=\u001b[39m \u001b[38;5;241m30\u001b[39m, unit \u001b[38;5;241m=\u001b[39m \u001b[38;5;124m'\u001b[39m\u001b[38;5;124mday\u001b[39m\u001b[38;5;124m'\u001b[39m), end \u001b[38;5;241m=\u001b[39m pd\u001b[38;5;241m.\u001b[39mto_datetime(dt_end) \u001b[38;5;241m+\u001b[39m pd\u001b[38;5;241m.\u001b[39mTimedelta(value \u001b[38;5;241m=\u001b[39m \u001b[38;5;241m30\u001b[39m, unit \u001b[38;5;241m=\u001b[39m \u001b[38;5;124m'\u001b[39m\u001b[38;5;124mday\u001b[39m\u001b[38;5;124m'\u001b[39m), freq\u001b[38;5;241m=\u001b[39mfreq)\n\u001b[1;32m    883\u001b[0m tmp \u001b[38;5;241m=\u001b[39m []\n",
      "File \u001b[0;32m~/driving-teacher-ai/시뮬레이션개발/src/utils.py:28\u001b[0m, in \u001b[0;36m구분데이터붙이기\u001b[0;34m(data, time_col)\u001b[0m\n\u001b[1;32m     25\u001b[0m 공휴일_params[\u001b[38;5;124m'\u001b[39m\u001b[38;5;124msolYear\u001b[39m\u001b[38;5;124m'\u001b[39m] \u001b[38;5;241m=\u001b[39m indexes\u001b[38;5;241m.\u001b[39miloc[i,\u001b[38;5;241m0\u001b[39m]\n\u001b[1;32m     27\u001b[0m 공휴일_response \u001b[38;5;241m=\u001b[39m requests\u001b[38;5;241m.\u001b[39mget(공휴일_url, params \u001b[38;5;241m=\u001b[39m 공휴일_params)\n\u001b[0;32m---> 28\u001b[0m \u001b[38;5;28;01mif\u001b[39;00m \u001b[43m공휴일_response\u001b[49m\u001b[38;5;241;43m.\u001b[39;49m\u001b[43mjson\u001b[49m\u001b[43m(\u001b[49m\u001b[43m)\u001b[49m[\u001b[38;5;124m'\u001b[39m\u001b[38;5;124mresponse\u001b[39m\u001b[38;5;124m'\u001b[39m][\u001b[38;5;124m'\u001b[39m\u001b[38;5;124mbody\u001b[39m\u001b[38;5;124m'\u001b[39m][\u001b[38;5;124m'\u001b[39m\u001b[38;5;124mtotalCount\u001b[39m\u001b[38;5;124m'\u001b[39m] \u001b[38;5;241m!=\u001b[39m \u001b[38;5;241m0\u001b[39m:\n\u001b[1;32m     29\u001b[0m     공휴일s \u001b[38;5;241m+\u001b[39m\u001b[38;5;241m=\u001b[39m 공휴일_response\u001b[38;5;241m.\u001b[39mjson()[\u001b[38;5;124m'\u001b[39m\u001b[38;5;124mresponse\u001b[39m\u001b[38;5;124m'\u001b[39m][\u001b[38;5;124m'\u001b[39m\u001b[38;5;124mbody\u001b[39m\u001b[38;5;124m'\u001b[39m][\u001b[38;5;124m'\u001b[39m\u001b[38;5;124mitems\u001b[39m\u001b[38;5;124m'\u001b[39m][\u001b[38;5;124m'\u001b[39m\u001b[38;5;124mitem\u001b[39m\u001b[38;5;124m'\u001b[39m]\n\u001b[1;32m     30\u001b[0m \u001b[38;5;28;01melse\u001b[39;00m:\n",
      "File \u001b[0;32m~/miniconda3/envs/tgsociety/lib/python3.9/site-packages/requests/models.py:978\u001b[0m, in \u001b[0;36mResponse.json\u001b[0;34m(self, **kwargs)\u001b[0m\n\u001b[1;32m    974\u001b[0m     \u001b[38;5;28;01mreturn\u001b[39;00m complexjson\u001b[38;5;241m.\u001b[39mloads(\u001b[38;5;28mself\u001b[39m\u001b[38;5;241m.\u001b[39mtext, \u001b[38;5;241m*\u001b[39m\u001b[38;5;241m*\u001b[39mkwargs)\n\u001b[1;32m    975\u001b[0m \u001b[38;5;28;01mexcept\u001b[39;00m JSONDecodeError \u001b[38;5;28;01mas\u001b[39;00m e:\n\u001b[1;32m    976\u001b[0m     \u001b[38;5;66;03m# Catch JSON-related errors and raise as requests.JSONDecodeError\u001b[39;00m\n\u001b[1;32m    977\u001b[0m     \u001b[38;5;66;03m# This aliases json.JSONDecodeError and simplejson.JSONDecodeError\u001b[39;00m\n\u001b[0;32m--> 978\u001b[0m     \u001b[38;5;28;01mraise\u001b[39;00m RequestsJSONDecodeError(e\u001b[38;5;241m.\u001b[39mmsg, e\u001b[38;5;241m.\u001b[39mdoc, e\u001b[38;5;241m.\u001b[39mpos)\n",
      "\u001b[0;31mJSONDecodeError\u001b[0m: Expecting value: line 1 column 1 (char 0)"
     ]
    }
   ],
   "source": [
    "import time\n",
    "simulator = Simulator_01(위치데이터_path = '../기초작업/data/강남3구_집계구_경계_중심.pickle', \n",
    "                         simulation_start_dt = '2024-05-01', \n",
    "                         simulation_end_dt = '2025-08-02',\n",
    "                         db_info = db_info,\n",
    "                         is_first = False, weight_학생숫자 = 1, 차량숫자 = 13)\n",
    "st = time.time()\n",
    "simulator.reset(선택최적 = 0, 선택rule = 'rule3')\n",
    "while simulator.simulation_done == False:\n",
    "    simulator.step(actions = 1, is_reinforce = False)\n",
    "print(time.time() - st)"
   ]
  },
  {
   "cell_type": "code",
   "execution_count": null,
   "id": "0d306b7b-4d68-47d4-8465-d133304c1e04",
   "metadata": {
    "scrolled": true
   },
   "outputs": [],
   "source": [
    "import time\n",
    "simulator = Simulator_01(위치데이터_path = '../기초작업/data/강남3구_집계구_경계_중심.pickle', \n",
    "                         simulation_start_dt = '2024-05-01', \n",
    "                         simulation_end_dt = '2025-08-02',\n",
    "                         db_info = db_info,\n",
    "                         is_first = False, weight_학생숫자 = 1, 차량숫자 = 16)\n",
    "st = time.time()\n",
    "simulator.reset(선택최적 = 0, 선택rule = 'rule3')\n",
    "while simulator.simulation_done == False:\n",
    "    simulator.step(actions = 1, is_reinforce = False)\n",
    "print(time.time() - st)"
   ]
  },
  {
   "cell_type": "code",
   "execution_count": null,
   "id": "e46e4f3a-ab16-4942-aee8-8b363f3807ae",
   "metadata": {
    "scrolled": true
   },
   "outputs": [],
   "source": [
    "import time\n",
    "simulator = Simulator_01(위치데이터_path = '../기초작업/data/강남3구_집계구_경계_중심.pickle', \n",
    "                         simulation_start_dt = '2024-05-01', \n",
    "                         simulation_end_dt = '2025-08-02',\n",
    "                         db_info = db_info,\n",
    "                         is_first = False, weight_학생숫자 = 1, 차량숫자 = 20)\n",
    "st = time.time()\n",
    "simulator.reset(선택최적 = 0, 선택rule = 'rule3')\n",
    "while simulator.simulation_done == False:\n",
    "    simulator.step(actions = 1, is_reinforce = False)\n",
    "print(time.time() - st)"
   ]
  },
  {
   "cell_type": "code",
   "execution_count": null,
   "id": "be0039a6-4c0b-4800-9e34-066338d0bfab",
   "metadata": {
    "scrolled": true
   },
   "outputs": [],
   "source": [
    "import time\n",
    "simulator = Simulator_01(위치데이터_path = '../기초작업/data/강남3구_집계구_경계_중심.pickle', \n",
    "                         simulation_start_dt = '2024-05-01', \n",
    "                         simulation_end_dt = '2025-08-02',\n",
    "                         db_info = db_info,\n",
    "                         is_first = False, weight_학생숫자 = 1, 차량숫자 = 22)\n",
    "st = time.time()\n",
    "simulator.reset(선택최적 = 0, 선택rule = 'rule3')\n",
    "while simulator.simulation_done == False:\n",
    "    simulator.step(actions = 1, is_reinforce = False)\n",
    "print(time.time() - st)"
   ]
  },
  {
   "cell_type": "code",
   "execution_count": null,
   "id": "b2ce664e-f115-46b4-84aa-bea5331d021a",
   "metadata": {
    "scrolled": true
   },
   "outputs": [],
   "source": [
    "import time\n",
    "simulator = Simulator_01(위치데이터_path = '../기초작업/data/강남3구_집계구_경계_중심.pickle', \n",
    "                         simulation_start_dt = '2024-05-01', \n",
    "                         simulation_end_dt = '2025-08-02',\n",
    "                         db_info = db_info,\n",
    "                         is_first = False, weight_학생숫자 = 1, 차량숫자 = 24)\n",
    "st = time.time()\n",
    "simulator.reset(선택최적 = 0, 선택rule = 'rule3')\n",
    "while simulator.simulation_done == False:\n",
    "    simulator.step(actions = 1, is_reinforce = False)\n",
    "print(time.time() - st)"
   ]
  },
  {
   "cell_type": "code",
   "execution_count": null,
   "id": "a1976322-aba1-4f9d-9102-1b214380101d",
   "metadata": {},
   "outputs": [],
   "source": [
    "import time\n",
    "simulator = Simulator_01(위치데이터_path = '../기초작업/data/강남3구_집계구_경계_중심.pickle', \n",
    "                         simulation_start_dt = '2024-05-01', \n",
    "                         simulation_end_dt = '2025-08-02',\n",
    "                         db_info = db_info,\n",
    "                         is_first = False, weight_학생숫자 = 1, 차량숫자 = 26)\n",
    "st = time.time()\n",
    "simulator.reset(선택최적 = 0, 선택rule = 'rule3')\n",
    "while simulator.simulation_done == False:\n",
    "    simulator.step(actions = 1, is_reinforce = False)\n",
    "print(time.time() - st)"
   ]
  },
  {
   "cell_type": "code",
   "execution_count": null,
   "id": "7bf6b9a8-402d-464f-ba80-54347b02e9e5",
   "metadata": {
    "scrolled": true
   },
   "outputs": [],
   "source": [
    "import time\n",
    "simulator = Simulator_01(위치데이터_path = '../기초작업/data/강남3구_집계구_경계_중심.pickle', \n",
    "                         simulation_start_dt = '2024-05-01', \n",
    "                         simulation_end_dt = '2025-08-02',\n",
    "                         db_info = db_info,\n",
    "                         is_first = False, weight_학생숫자 = 1, 차량숫자 = 19)\n",
    "st = time.time()\n",
    "simulator.reset(선택최적 = 0, 선택rule = 'rule3')\n",
    "while simulator.simulation_done == False:\n",
    "    simulator.step(actions = 1, is_reinforce = False)\n",
    "print(time.time() - st)"
   ]
  },
  {
   "cell_type": "code",
   "execution_count": null,
   "id": "19a31abf-6714-47f1-a329-e689a5c87bb2",
   "metadata": {
    "scrolled": true
   },
   "outputs": [],
   "source": [
    "import time\n",
    "simulator = Simulator_01(위치데이터_path = '../기초작업/data/강남3구_집계구_경계_중심.pickle', \n",
    "                         simulation_start_dt = '2024-05-01', \n",
    "                         simulation_end_dt = '2025-08-02',\n",
    "                         db_info = db_info,\n",
    "                         is_first = False, weight_학생숫자 = 1, 차량숫자 = 28)\n",
    "st = time.time()\n",
    "simulator.reset(선택최적 = 0, 선택rule = 'rule3')\n",
    "while simulator.simulation_done == False:\n",
    "    simulator.step(actions = 1, is_reinforce = False)\n",
    "print(time.time() - st)"
   ]
  },
  {
   "cell_type": "code",
   "execution_count": null,
   "id": "b3dbf0b3-0444-48c2-ba91-31a7ae9e9010",
   "metadata": {},
   "outputs": [],
   "source": []
  },
  {
   "cell_type": "code",
   "execution_count": null,
   "id": "39cb1655-b786-435a-a02a-7e1a46e336ff",
   "metadata": {},
   "outputs": [],
   "source": [
    "trhn"
   ]
  },
  {
   "cell_type": "code",
   "execution_count": null,
   "id": "dc507a76-76dc-4c3b-8aae-b429335083a3",
   "metadata": {
    "scrolled": true
   },
   "outputs": [],
   "source": [
    "from src.sac_lstm import SACAgent\n",
    "import torch\n",
    "# Hyperparameters\n",
    "action_dim = 25\n",
    "hidden_dim = 256\n",
    "lr = 3e-4\n",
    "batch_size = 64\n",
    "num_episodes = 1000\n",
    "\n",
    "# Device configuration\n",
    "device = torch.device('cuda' if torch.cuda.is_available() else 'cpu')\n",
    "device = 'cpu'\n",
    "\n",
    "# Initialize environment and agent\n",
    "agent = SACAgent(action_dim = action_dim, hidden_dim = hidden_dim, lr = lr,  device = device, num_cars = len(simulator.차량데이터))\n",
    "agent.load_model(path = './model/model.torch')\n",
    "\n",
    "state = simulator.reset(선택최적 = 0, 선택rule = 'ruleX')\n",
    "done = False\n",
    "episode_reward = 0\n",
    "\n",
    "day_경과 = 0\n",
    "while simulator.simulation_done == False:\n",
    "    actions = agent.select_action(state)\n",
    "    next_state, reward, done = simulator.step(actions)\n",
    "    \n",
    "    agent.store_transition((state, actions, reward, next_state, done))\n",
    "    agent.update(batch_size)\n",
    "    \n",
    "    state = next_state\n",
    "    if (done == True) & (simulator.simulation_done == False):\n",
    "        s = state.pop(0)\n",
    "        state.append([s[0], [[] for _ in range(25)]])\n",
    "        day_경과 += 1\n",
    "        if day_경과 %10 == 0:\n",
    "            agent.log_q_values(init_states)\n",
    "            agent.plot_metrics()\n",
    "            agent.save_model(path = './model/model.torch')\n",
    "    \n",
    "    episode_reward += reward\n",
    "\n",
    "print(f\" Reward: {episode_reward}\")"
   ]
  },
  {
   "cell_type": "code",
   "execution_count": null,
   "id": "8fa9ee8d-10ff-4d9a-9a4c-fc924161e4b8",
   "metadata": {},
   "outputs": [],
   "source": [
    "len(state)"
   ]
  },
  {
   "cell_type": "code",
   "execution_count": null,
   "id": "887aeab1-3fb2-4a6c-a473-0e4c4465d0d4",
   "metadata": {
    "scrolled": true
   },
   "outputs": [],
   "source": [
    "for i in range(len(state)):\n",
    "    for j in range(len(state[i][1])):\n",
    "        if len(state[i][1][j]) >= 10:\n",
    "            print(i, j)\n",
    "            print(len(state[i][1][j]))\n",
    "state[0]"
   ]
  },
  {
   "cell_type": "code",
   "execution_count": null,
   "id": "ff66a4c9-644d-4926-94ce-044b5637dc93",
   "metadata": {},
   "outputs": [],
   "source": [
    "simulator.차량데이터"
   ]
  },
  {
   "cell_type": "code",
   "execution_count": null,
   "id": "d76f4cf0-8402-4daf-a13d-6e4e3e556a47",
   "metadata": {},
   "outputs": [],
   "source": [
    "import pandas as pd\n",
    "남예 = pd.DataFrame(simulator.남은예약)\n",
    "남예"
   ]
  },
  {
   "cell_type": "code",
   "execution_count": null,
   "id": "5175cc7b-3c30-4514-b994-2057b173def0",
   "metadata": {},
   "outputs": [],
   "source": [
    "state[0][1]"
   ]
  },
  {
   "cell_type": "code",
   "execution_count": null,
   "id": "7f37ba98-439b-4608-b1da-a857eb6870a0",
   "metadata": {
    "scrolled": true
   },
   "outputs": [],
   "source": [
    "import torch\n",
    "import torch.nn as nn\n",
    "import torch.optim as optim\n",
    "import torch.nn.functional as F\n",
    "from torch.distributions import Normal\n",
    "from src.sac_lstm import pad_variable_length_tensors\n",
    "x1 = torch.relu(nn.Linear(3, 128)(continuous_vars))  # (batch_size, 128)\n",
    "x1 = x1.unsqueeze(1).repeat(1, 10, 1)  # (batch_size, 10, 128) to match x2\n",
    "\n",
    "variable_length_tensors = pad_variable_length_tensors(variable_length_tensors, device)\n",
    "padded_seqs = torch.cat(variable_length_tensors, dim=0)  # (batch_size, max_length, 1)\n",
    "x2, _ = nn.LSTM(1, 128, batch_first=False)(padded_seqs)  # (batch_size, max_length, 128)"
   ]
  },
  {
   "cell_type": "code",
   "execution_count": null,
   "id": "783f52bf-6f1a-4048-8269-10f556b56a70",
   "metadata": {},
   "outputs": [],
   "source": [
    "x = torch.cat([x1, x2], dim=0)\n",
    "x = x.view(x.size(0), -1)\n",
    "x.size()"
   ]
  },
  {
   "cell_type": "code",
   "execution_count": null,
   "id": "5fd3be8f-438a-4ddc-b211-2b05bddfd798",
   "metadata": {},
   "outputs": [],
   "source": [
    "x1 = torch.relu(nn.Linear(3, 64)(continuous_vars))\n",
    "# x1 = x1.unsqueeze(0)  # 2차원 텐서로 확장"
   ]
  },
  {
   "cell_type": "code",
   "execution_count": null,
   "id": "f8f7a43c-0379-4ac5-b1c4-d1d7b5b9ae81",
   "metadata": {},
   "outputs": [],
   "source": [
    "x2 = x2.view(x2.size(0), -1)\n",
    "x2.size()"
   ]
  },
  {
   "cell_type": "code",
   "execution_count": null,
   "id": "559a8bab-48ff-4bf2-8e2d-0d6e7802ab1a",
   "metadata": {},
   "outputs": [],
   "source": [
    "x2.size()"
   ]
  },
  {
   "cell_type": "code",
   "execution_count": null,
   "id": "bfe6e4a4-e333-48cb-8d64-d9f90dcf2999",
   "metadata": {},
   "outputs": [],
   "source": [
    "x1.size()"
   ]
  },
  {
   "cell_type": "code",
   "execution_count": null,
   "id": "a5657e20-179e-4944-ba01-c8ac1f02b38a",
   "metadata": {},
   "outputs": [],
   "source": [
    "variable_length_tensors = pad_variable_length_tensors(variable_length_tensors, device)\n",
    "padded_seqs = torch.cat(variable_length_tensors, dim=0)\n",
    "lengths = torch.tensor([seq.size(1) for seq in variable_length_tensors]).to(device)\n",
    "packed_seqs = nn.utils.rnn.pack_padded_sequence(padded_seqs, lengths, batch_first=True, enforce_sorted=False).to(device)"
   ]
  },
  {
   "cell_type": "code",
   "execution_count": null,
   "id": "eb938e4e-3823-42f8-a325-f4f91a2aa47a",
   "metadata": {},
   "outputs": [],
   "source": [
    "packed_seqs"
   ]
  },
  {
   "cell_type": "code",
   "execution_count": null,
   "id": "538f35ad-c8a6-4057-bd40-04bed0b73e16",
   "metadata": {
    "scrolled": true
   },
   "outputs": [],
   "source": [
    "x2, _ = nn.LSTM(num_layers = 25, hidden_size = 25, input_size = 3, batch_first=False)(packed_seqs)"
   ]
  },
  {
   "cell_type": "code",
   "execution_count": null,
   "id": "3d014c38-8967-49b5-842e-4db4ede96f32",
   "metadata": {},
   "outputs": [],
   "source": [
    "def pad_variable_length_tensors(tensors, device):\n",
    "    max_length = max(tensor.size(1) for tensor in tensors)\n",
    "    padded_tensors = []\n",
    "    for tensor in tensors:\n",
    "        padding = torch.zeros((tensor.size(0), max_length - tensor.size(1)), dtype=torch.float32).to(device)\n",
    "        padded_tensor = torch.cat([tensor, padding], dim=1)\n",
    "        padded_tensors.append(padded_tensor)\n",
    "    return padded_tensors"
   ]
  },
  {
   "cell_type": "code",
   "execution_count": null,
   "id": "c1eb4fd8-692d-444f-9201-bac224e217e7",
   "metadata": {
    "scrolled": true
   },
   "outputs": [],
   "source": [
    "import time\n",
    "st = time.time()\n",
    "simulator.reset(선택최적 = -1, 선택rule = 'ruleX')\n",
    "for _ in range(40):\n",
    "    simulator.step(action = 1)\n",
    "print(time.time() - st)"
   ]
  },
  {
   "cell_type": "code",
   "execution_count": null,
   "id": "f826fca4-1bc8-4de7-979f-921428f84ef9",
   "metadata": {
    "scrolled": true
   },
   "outputs": [],
   "source": [
    "for _ in range(100):\n",
    "    state, reward, done = simulator.step(action = 1)\n",
    "    print(state)\n",
    "    print(reward)\n",
    "    print(done)"
   ]
  },
  {
   "cell_type": "code",
   "execution_count": null,
   "id": "b7ef331d-7980-4dff-b0db-23d9f0e53b0b",
   "metadata": {
    "scrolled": true
   },
   "outputs": [],
   "source": [
    "# import time\n",
    "# st = time.time()\n",
    "# simulator.reset(선택최적 = 0, 선택rule = 'ruleX')\n",
    "# while simulator.simulation_done == False:\n",
    "#     simulator.step(action = 1)\n",
    "# print(time.time() - st)"
   ]
  },
  {
   "cell_type": "code",
   "execution_count": null,
   "id": "c0d746c4-2f58-499f-9c5a-e60f7147cbd2",
   "metadata": {},
   "outputs": [],
   "source": [
    "sdg"
   ]
  },
  {
   "cell_type": "code",
   "execution_count": null,
   "id": "3191d403-73d0-408a-976c-7562b9d79e19",
   "metadata": {
    "scrolled": true
   },
   "outputs": [],
   "source": [
    "import time\n",
    "st = time.time()\n",
    "simulator.run(선택최적 = -1, 선택rule = 'ruleX')\n",
    "print(time.time() - st)"
   ]
  },
  {
   "cell_type": "code",
   "execution_count": null,
   "id": "299c3afe-9de7-4b81-ade5-de7846583909",
   "metadata": {
    "scrolled": true
   },
   "outputs": [],
   "source": []
  },
  {
   "cell_type": "code",
   "execution_count": null,
   "id": "74fab087-307a-41cb-9c52-d9d6a4ff2d30",
   "metadata": {},
   "outputs": [],
   "source": []
  },
  {
   "cell_type": "code",
   "execution_count": null,
   "id": "c3127a51-632a-4109-9e9e-16dce2744b7a",
   "metadata": {},
   "outputs": [],
   "source": []
  },
  {
   "cell_type": "code",
   "execution_count": null,
   "id": "d370bd5f-ee5c-44a2-9748-cb8506857aa8",
   "metadata": {},
   "outputs": [],
   "source": []
  },
  {
   "cell_type": "code",
   "execution_count": null,
   "id": "dd712ed1-6504-4cf8-804a-138fe678cfa6",
   "metadata": {},
   "outputs": [],
   "source": []
  },
  {
   "cell_type": "code",
   "execution_count": null,
   "id": "eb415d91-9847-4d2d-a1aa-23e971efb2df",
   "metadata": {},
   "outputs": [],
   "source": []
  }
 ],
 "metadata": {
  "kernelspec": {
   "display_name": "tgsociety",
   "language": "python",
   "name": "tgsociety"
  },
  "language_info": {
   "codemirror_mode": {
    "name": "ipython",
    "version": 3
   },
   "file_extension": ".py",
   "mimetype": "text/x-python",
   "name": "python",
   "nbconvert_exporter": "python",
   "pygments_lexer": "ipython3",
   "version": "3.9.19"
  }
 },
 "nbformat": 4,
 "nbformat_minor": 5
}
