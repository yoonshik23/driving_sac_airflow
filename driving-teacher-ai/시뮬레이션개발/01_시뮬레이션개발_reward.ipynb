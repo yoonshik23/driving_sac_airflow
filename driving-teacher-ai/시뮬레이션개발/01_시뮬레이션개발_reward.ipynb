{
 "cells": [
  {
   "cell_type": "code",
   "execution_count": 1,
   "id": "f3fba629-ae7f-4e68-aca0-b51a36b2dd72",
   "metadata": {},
   "outputs": [],
   "source": [
    "# conda install pandas geopandas sqlalchemy\n",
    "# pip install pytimekr"
   ]
  },
  {
   "cell_type": "code",
   "execution_count": 2,
   "id": "51d1a7f5-50df-4458-9011-13f25bf1294a",
   "metadata": {},
   "outputs": [],
   "source": [
    "# next_state 다시보기1111111111111111111111111111111111111111"
   ]
  },
  {
   "cell_type": "code",
   "execution_count": 3,
   "id": "1491b03b-6c73-4854-818b-6694f9453e94",
   "metadata": {
    "scrolled": true
   },
   "outputs": [
    {
     "ename": "JSONDecodeError",
     "evalue": "Expecting value: line 1 column 1 (char 0)",
     "output_type": "error",
     "traceback": [
      "\u001b[0;31m---------------------------------------------------------------------------\u001b[0m",
      "\u001b[0;31mJSONDecodeError\u001b[0m                           Traceback (most recent call last)",
      "File \u001b[0;32m~/miniconda3/envs/tgsociety/lib/python3.9/site-packages/requests/models.py:974\u001b[0m, in \u001b[0;36mResponse.json\u001b[0;34m(self, **kwargs)\u001b[0m\n\u001b[1;32m    973\u001b[0m \u001b[38;5;28;01mtry\u001b[39;00m:\n\u001b[0;32m--> 974\u001b[0m     \u001b[38;5;28;01mreturn\u001b[39;00m \u001b[43mcomplexjson\u001b[49m\u001b[38;5;241;43m.\u001b[39;49m\u001b[43mloads\u001b[49m\u001b[43m(\u001b[49m\u001b[38;5;28;43mself\u001b[39;49m\u001b[38;5;241;43m.\u001b[39;49m\u001b[43mtext\u001b[49m\u001b[43m,\u001b[49m\u001b[43m \u001b[49m\u001b[38;5;241;43m*\u001b[39;49m\u001b[38;5;241;43m*\u001b[39;49m\u001b[43mkwargs\u001b[49m\u001b[43m)\u001b[49m\n\u001b[1;32m    975\u001b[0m \u001b[38;5;28;01mexcept\u001b[39;00m JSONDecodeError \u001b[38;5;28;01mas\u001b[39;00m e:\n\u001b[1;32m    976\u001b[0m     \u001b[38;5;66;03m# Catch JSON-related errors and raise as requests.JSONDecodeError\u001b[39;00m\n\u001b[1;32m    977\u001b[0m     \u001b[38;5;66;03m# This aliases json.JSONDecodeError and simplejson.JSONDecodeError\u001b[39;00m\n",
      "File \u001b[0;32m~/miniconda3/envs/tgsociety/lib/python3.9/json/__init__.py:346\u001b[0m, in \u001b[0;36mloads\u001b[0;34m(s, cls, object_hook, parse_float, parse_int, parse_constant, object_pairs_hook, **kw)\u001b[0m\n\u001b[1;32m    343\u001b[0m \u001b[38;5;28;01mif\u001b[39;00m (\u001b[38;5;28mcls\u001b[39m \u001b[38;5;129;01mis\u001b[39;00m \u001b[38;5;28;01mNone\u001b[39;00m \u001b[38;5;129;01mand\u001b[39;00m object_hook \u001b[38;5;129;01mis\u001b[39;00m \u001b[38;5;28;01mNone\u001b[39;00m \u001b[38;5;129;01mand\u001b[39;00m\n\u001b[1;32m    344\u001b[0m         parse_int \u001b[38;5;129;01mis\u001b[39;00m \u001b[38;5;28;01mNone\u001b[39;00m \u001b[38;5;129;01mand\u001b[39;00m parse_float \u001b[38;5;129;01mis\u001b[39;00m \u001b[38;5;28;01mNone\u001b[39;00m \u001b[38;5;129;01mand\u001b[39;00m\n\u001b[1;32m    345\u001b[0m         parse_constant \u001b[38;5;129;01mis\u001b[39;00m \u001b[38;5;28;01mNone\u001b[39;00m \u001b[38;5;129;01mand\u001b[39;00m object_pairs_hook \u001b[38;5;129;01mis\u001b[39;00m \u001b[38;5;28;01mNone\u001b[39;00m \u001b[38;5;129;01mand\u001b[39;00m \u001b[38;5;129;01mnot\u001b[39;00m kw):\n\u001b[0;32m--> 346\u001b[0m     \u001b[38;5;28;01mreturn\u001b[39;00m \u001b[43m_default_decoder\u001b[49m\u001b[38;5;241;43m.\u001b[39;49m\u001b[43mdecode\u001b[49m\u001b[43m(\u001b[49m\u001b[43ms\u001b[49m\u001b[43m)\u001b[49m\n\u001b[1;32m    347\u001b[0m \u001b[38;5;28;01mif\u001b[39;00m \u001b[38;5;28mcls\u001b[39m \u001b[38;5;129;01mis\u001b[39;00m \u001b[38;5;28;01mNone\u001b[39;00m:\n",
      "File \u001b[0;32m~/miniconda3/envs/tgsociety/lib/python3.9/json/decoder.py:337\u001b[0m, in \u001b[0;36mJSONDecoder.decode\u001b[0;34m(self, s, _w)\u001b[0m\n\u001b[1;32m    333\u001b[0m \u001b[38;5;250m\u001b[39m\u001b[38;5;124;03m\"\"\"Return the Python representation of ``s`` (a ``str`` instance\u001b[39;00m\n\u001b[1;32m    334\u001b[0m \u001b[38;5;124;03mcontaining a JSON document).\u001b[39;00m\n\u001b[1;32m    335\u001b[0m \n\u001b[1;32m    336\u001b[0m \u001b[38;5;124;03m\"\"\"\u001b[39;00m\n\u001b[0;32m--> 337\u001b[0m obj, end \u001b[38;5;241m=\u001b[39m \u001b[38;5;28;43mself\u001b[39;49m\u001b[38;5;241;43m.\u001b[39;49m\u001b[43mraw_decode\u001b[49m\u001b[43m(\u001b[49m\u001b[43ms\u001b[49m\u001b[43m,\u001b[49m\u001b[43m \u001b[49m\u001b[43midx\u001b[49m\u001b[38;5;241;43m=\u001b[39;49m\u001b[43m_w\u001b[49m\u001b[43m(\u001b[49m\u001b[43ms\u001b[49m\u001b[43m,\u001b[49m\u001b[43m \u001b[49m\u001b[38;5;241;43m0\u001b[39;49m\u001b[43m)\u001b[49m\u001b[38;5;241;43m.\u001b[39;49m\u001b[43mend\u001b[49m\u001b[43m(\u001b[49m\u001b[43m)\u001b[49m\u001b[43m)\u001b[49m\n\u001b[1;32m    338\u001b[0m end \u001b[38;5;241m=\u001b[39m _w(s, end)\u001b[38;5;241m.\u001b[39mend()\n",
      "File \u001b[0;32m~/miniconda3/envs/tgsociety/lib/python3.9/json/decoder.py:355\u001b[0m, in \u001b[0;36mJSONDecoder.raw_decode\u001b[0;34m(self, s, idx)\u001b[0m\n\u001b[1;32m    354\u001b[0m \u001b[38;5;28;01mexcept\u001b[39;00m \u001b[38;5;167;01mStopIteration\u001b[39;00m \u001b[38;5;28;01mas\u001b[39;00m err:\n\u001b[0;32m--> 355\u001b[0m     \u001b[38;5;28;01mraise\u001b[39;00m JSONDecodeError(\u001b[38;5;124m\"\u001b[39m\u001b[38;5;124mExpecting value\u001b[39m\u001b[38;5;124m\"\u001b[39m, s, err\u001b[38;5;241m.\u001b[39mvalue) \u001b[38;5;28;01mfrom\u001b[39;00m \u001b[38;5;28;01mNone\u001b[39;00m\n\u001b[1;32m    356\u001b[0m \u001b[38;5;28;01mreturn\u001b[39;00m obj, end\n",
      "\u001b[0;31mJSONDecodeError\u001b[0m: Expecting value: line 1 column 1 (char 0)",
      "\nDuring handling of the above exception, another exception occurred:\n",
      "\u001b[0;31mJSONDecodeError\u001b[0m                           Traceback (most recent call last)",
      "Cell \u001b[0;32mIn[3], line 10\u001b[0m\n\u001b[1;32m      2\u001b[0m \u001b[38;5;28;01mimport\u001b[39;00m \u001b[38;5;21;01mpandas\u001b[39;00m \u001b[38;5;28;01mas\u001b[39;00m \u001b[38;5;21;01mpd\u001b[39;00m\n\u001b[1;32m      4\u001b[0m db_info \u001b[38;5;241m=\u001b[39m {\u001b[38;5;124m'\u001b[39m\u001b[38;5;124mhost\u001b[39m\u001b[38;5;124m'\u001b[39m: \u001b[38;5;124m'\u001b[39m\u001b[38;5;124m163.152.172.163\u001b[39m\u001b[38;5;124m'\u001b[39m,\n\u001b[1;32m      5\u001b[0m           \u001b[38;5;124m'\u001b[39m\u001b[38;5;124mport\u001b[39m\u001b[38;5;124m'\u001b[39m: \u001b[38;5;124m'\u001b[39m\u001b[38;5;124m5432\u001b[39m\u001b[38;5;124m'\u001b[39m,\n\u001b[1;32m      6\u001b[0m           \u001b[38;5;124m'\u001b[39m\u001b[38;5;124mdb_name\u001b[39m\u001b[38;5;124m'\u001b[39m: \u001b[38;5;124m'\u001b[39m\u001b[38;5;124mpostgres\u001b[39m\u001b[38;5;124m'\u001b[39m,\n\u001b[1;32m      7\u001b[0m           \u001b[38;5;124m'\u001b[39m\u001b[38;5;124muser_name\u001b[39m\u001b[38;5;124m'\u001b[39m: \u001b[38;5;124m'\u001b[39m\u001b[38;5;124mtgsociety\u001b[39m\u001b[38;5;124m'\u001b[39m,\n\u001b[1;32m      8\u001b[0m           \u001b[38;5;124m'\u001b[39m\u001b[38;5;124mpassword\u001b[39m\u001b[38;5;124m'\u001b[39m: \u001b[38;5;124m'\u001b[39m\u001b[38;5;124mtgsociety\u001b[39m\u001b[38;5;124m'\u001b[39m}\n\u001b[0;32m---> 10\u001b[0m simulator \u001b[38;5;241m=\u001b[39m \u001b[43mSimulator_01\u001b[49m\u001b[43m(\u001b[49m\u001b[43m위치데이터_path\u001b[49m\u001b[43m \u001b[49m\u001b[38;5;241;43m=\u001b[39;49m\u001b[43m \u001b[49m\u001b[38;5;124;43m'\u001b[39;49m\u001b[38;5;124;43m../기초작업/data/강남3구_집계구_경계_중심.pickle\u001b[39;49m\u001b[38;5;124;43m'\u001b[39;49m\u001b[43m,\u001b[49m\u001b[43m \u001b[49m\n\u001b[1;32m     11\u001b[0m \u001b[43m                         \u001b[49m\u001b[43msimulation_start_dt\u001b[49m\u001b[43m \u001b[49m\u001b[38;5;241;43m=\u001b[39;49m\u001b[43m \u001b[49m\u001b[38;5;124;43m'\u001b[39;49m\u001b[38;5;124;43m2024-05-01\u001b[39;49m\u001b[38;5;124;43m'\u001b[39;49m\u001b[43m,\u001b[49m\u001b[43m \u001b[49m\n\u001b[1;32m     12\u001b[0m \u001b[43m                         \u001b[49m\u001b[43msimulation_end_dt\u001b[49m\u001b[43m \u001b[49m\u001b[38;5;241;43m=\u001b[39;49m\u001b[43m \u001b[49m\u001b[38;5;124;43m'\u001b[39;49m\u001b[38;5;124;43m2026-05-10\u001b[39;49m\u001b[38;5;124;43m'\u001b[39;49m\u001b[43m,\u001b[49m\n\u001b[1;32m     13\u001b[0m \u001b[43m                         \u001b[49m\u001b[43mdb_info\u001b[49m\u001b[43m \u001b[49m\u001b[38;5;241;43m=\u001b[39;49m\u001b[43m \u001b[49m\u001b[43mdb_info\u001b[49m\u001b[43m,\u001b[49m\n\u001b[1;32m     14\u001b[0m \u001b[43m                         \u001b[49m\u001b[43mis_first\u001b[49m\u001b[43m \u001b[49m\u001b[38;5;241;43m=\u001b[39;49m\u001b[43m \u001b[49m\u001b[38;5;28;43;01mTrue\u001b[39;49;00m\u001b[43m,\u001b[49m\u001b[43m \u001b[49m\u001b[43m차량숫자\u001b[49m\u001b[43m \u001b[49m\u001b[38;5;241;43m=\u001b[39;49m\u001b[43m \u001b[49m\u001b[38;5;241;43m15\u001b[39;49m\u001b[43m)\u001b[49m\n",
      "File \u001b[0;32m~/driving-teacher-ai/시뮬레이션개발/src/simulator_02.py:42\u001b[0m, in \u001b[0;36mSimulator_01.__init__\u001b[0;34m(self, 위치데이터_path, simulation_start_dt, simulation_end_dt, db_info, is_first, data_start_date, weight_학생숫자, 차량숫자)\u001b[0m\n\u001b[1;32m     40\u001b[0m \u001b[38;5;28mself\u001b[39m\u001b[38;5;241m.\u001b[39mdb_handler \u001b[38;5;241m=\u001b[39m Engine(db_info)\n\u001b[1;32m     41\u001b[0m \u001b[38;5;28mself\u001b[39m\u001b[38;5;241m.\u001b[39m_01_수요데이터불러오기(start_datetime \u001b[38;5;241m=\u001b[39m data_start_date)\n\u001b[0;32m---> 42\u001b[0m \u001b[38;5;28;43mself\u001b[39;49m\u001b[38;5;241;43m.\u001b[39;49m\u001b[43m_02_구분데이터붙이기\u001b[49m\u001b[43m(\u001b[49m\u001b[43m)\u001b[49m\n\u001b[1;32m     43\u001b[0m \u001b[38;5;28mself\u001b[39m\u001b[38;5;241m.\u001b[39m_03_클러스터링()\n\u001b[1;32m     44\u001b[0m \u001b[38;5;28mself\u001b[39m\u001b[38;5;241m.\u001b[39m_클러스터링결과저장()\n",
      "File \u001b[0;32m~/driving-teacher-ai/시뮬레이션개발/src/simulator_02.py:818\u001b[0m, in \u001b[0;36mSimulator_01._02_구분데이터붙이기\u001b[0;34m(self)\u001b[0m\n\u001b[1;32m    814\u001b[0m \u001b[38;5;28;01mdef\u001b[39;00m \u001b[38;5;21m_02_구분데이터붙이기\u001b[39m(\u001b[38;5;28mself\u001b[39m):\n\u001b[1;32m    815\u001b[0m \u001b[38;5;250m    \u001b[39m\u001b[38;5;124;03m'''\u001b[39;00m\n\u001b[1;32m    816\u001b[0m \u001b[38;5;124;03m    수요 데이터에 요일, 24절기, 휴일여부, 조조/점심/저녁, 기후(추후 추가) 등 구분 기준 붙이기\u001b[39;00m\n\u001b[1;32m    817\u001b[0m \u001b[38;5;124;03m    '''\u001b[39;00m\n\u001b[0;32m--> 818\u001b[0m     \u001b[38;5;28mself\u001b[39m\u001b[38;5;241m.\u001b[39mdata \u001b[38;5;241m=\u001b[39m \u001b[43m구분데이터붙이기\u001b[49m\u001b[43m(\u001b[49m\u001b[38;5;28;43mself\u001b[39;49m\u001b[38;5;241;43m.\u001b[39;49m\u001b[43mdata\u001b[49m\u001b[43m,\u001b[49m\u001b[43m \u001b[49m\u001b[38;5;124;43m'\u001b[39;49m\u001b[38;5;124;43m예약희망일시\u001b[39;49m\u001b[38;5;124;43m'\u001b[39;49m\u001b[43m)\u001b[49m\n",
      "File \u001b[0;32m~/driving-teacher-ai/시뮬레이션개발/src/utils.py:28\u001b[0m, in \u001b[0;36m구분데이터붙이기\u001b[0;34m(data, time_col)\u001b[0m\n\u001b[1;32m     25\u001b[0m 공휴일_params[\u001b[38;5;124m'\u001b[39m\u001b[38;5;124msolYear\u001b[39m\u001b[38;5;124m'\u001b[39m] \u001b[38;5;241m=\u001b[39m indexes\u001b[38;5;241m.\u001b[39miloc[i,\u001b[38;5;241m0\u001b[39m]\n\u001b[1;32m     27\u001b[0m 공휴일_response \u001b[38;5;241m=\u001b[39m requests\u001b[38;5;241m.\u001b[39mget(공휴일_url, params \u001b[38;5;241m=\u001b[39m 공휴일_params)\n\u001b[0;32m---> 28\u001b[0m \u001b[38;5;28;01mif\u001b[39;00m \u001b[43m공휴일_response\u001b[49m\u001b[38;5;241;43m.\u001b[39;49m\u001b[43mjson\u001b[49m\u001b[43m(\u001b[49m\u001b[43m)\u001b[49m[\u001b[38;5;124m'\u001b[39m\u001b[38;5;124mresponse\u001b[39m\u001b[38;5;124m'\u001b[39m][\u001b[38;5;124m'\u001b[39m\u001b[38;5;124mbody\u001b[39m\u001b[38;5;124m'\u001b[39m][\u001b[38;5;124m'\u001b[39m\u001b[38;5;124mtotalCount\u001b[39m\u001b[38;5;124m'\u001b[39m] \u001b[38;5;241m!=\u001b[39m \u001b[38;5;241m0\u001b[39m:\n\u001b[1;32m     29\u001b[0m     공휴일s \u001b[38;5;241m+\u001b[39m\u001b[38;5;241m=\u001b[39m 공휴일_response\u001b[38;5;241m.\u001b[39mjson()[\u001b[38;5;124m'\u001b[39m\u001b[38;5;124mresponse\u001b[39m\u001b[38;5;124m'\u001b[39m][\u001b[38;5;124m'\u001b[39m\u001b[38;5;124mbody\u001b[39m\u001b[38;5;124m'\u001b[39m][\u001b[38;5;124m'\u001b[39m\u001b[38;5;124mitems\u001b[39m\u001b[38;5;124m'\u001b[39m][\u001b[38;5;124m'\u001b[39m\u001b[38;5;124mitem\u001b[39m\u001b[38;5;124m'\u001b[39m]\n\u001b[1;32m     30\u001b[0m \u001b[38;5;28;01melse\u001b[39;00m:\n",
      "File \u001b[0;32m~/miniconda3/envs/tgsociety/lib/python3.9/site-packages/requests/models.py:978\u001b[0m, in \u001b[0;36mResponse.json\u001b[0;34m(self, **kwargs)\u001b[0m\n\u001b[1;32m    974\u001b[0m     \u001b[38;5;28;01mreturn\u001b[39;00m complexjson\u001b[38;5;241m.\u001b[39mloads(\u001b[38;5;28mself\u001b[39m\u001b[38;5;241m.\u001b[39mtext, \u001b[38;5;241m*\u001b[39m\u001b[38;5;241m*\u001b[39mkwargs)\n\u001b[1;32m    975\u001b[0m \u001b[38;5;28;01mexcept\u001b[39;00m JSONDecodeError \u001b[38;5;28;01mas\u001b[39;00m e:\n\u001b[1;32m    976\u001b[0m     \u001b[38;5;66;03m# Catch JSON-related errors and raise as requests.JSONDecodeError\u001b[39;00m\n\u001b[1;32m    977\u001b[0m     \u001b[38;5;66;03m# This aliases json.JSONDecodeError and simplejson.JSONDecodeError\u001b[39;00m\n\u001b[0;32m--> 978\u001b[0m     \u001b[38;5;28;01mraise\u001b[39;00m RequestsJSONDecodeError(e\u001b[38;5;241m.\u001b[39mmsg, e\u001b[38;5;241m.\u001b[39mdoc, e\u001b[38;5;241m.\u001b[39mpos)\n",
      "\u001b[0;31mJSONDecodeError\u001b[0m: Expecting value: line 1 column 1 (char 0)"
     ]
    }
   ],
   "source": [
    "from src.simulator_02 import Simulator_01\n",
    "import pandas as pd\n",
    "\n",
    "db_info = {'host': '163.152.172.163',\n",
    "          'port': '5432',\n",
    "          'db_name': 'postgres',\n",
    "          'user_name': 'tgsociety',\n",
    "          'password': 'tgsociety'}\n",
    "\n",
    "simulator = Simulator_01(위치데이터_path = '../기초작업/data/강남3구_집계구_경계_중심.pickle', \n",
    "                         simulation_start_dt = '2024-05-01', \n",
    "                         simulation_end_dt = '2026-05-10',\n",
    "                         db_info = db_info,\n",
    "                         is_first = True, 차량숫자 = 15)\n"
   ]
  },
  {
   "cell_type": "code",
   "execution_count": null,
   "id": "3bab53ca-15af-42a2-a135-69537984f644",
   "metadata": {},
   "outputs": [],
   "source": [
    "init_states = simulator.make_init_states(sample_num = 1000)"
   ]
  },
  {
   "cell_type": "code",
   "execution_count": null,
   "id": "fe579844-83f7-47cd-9e9d-253132cad311",
   "metadata": {
    "scrolled": true
   },
   "outputs": [],
   "source": []
  },
  {
   "cell_type": "code",
   "execution_count": null,
   "id": "3a343abd-fd98-4f5e-b689-2cc08c57206b",
   "metadata": {
    "scrolled": true
   },
   "outputs": [],
   "source": [
    "# import time\n",
    "# st = time.time()\n",
    "# simulator.reset(선택최적 = -1, 선택rule = 'ruleX')\n",
    "# while simulator.simulation_done == False:\n",
    "#     simulator.step(actions = 1, is_reinforce = False)\n",
    "# print(time.time() - st)"
   ]
  },
  {
   "cell_type": "code",
   "execution_count": null,
   "id": "760ea7e5-8373-4c8f-9678-e9b6fa254c6c",
   "metadata": {},
   "outputs": [],
   "source": []
  },
  {
   "cell_type": "code",
   "execution_count": null,
   "id": "4fa6be89-7cf6-4783-a838-c8719895363f",
   "metadata": {
    "scrolled": true
   },
   "outputs": [],
   "source": [
    "# import time\n",
    "# st = time.time()\n",
    "# simulator.reset(선택최적 = 0, 선택rule = 'ruleX')\n",
    "# while simulator.simulation_done == False:\n",
    "#     simulator.step(actions = 1, is_reinforce = False)\n",
    "# print(time.time() - st)"
   ]
  },
  {
   "cell_type": "code",
   "execution_count": null,
   "id": "dc507a76-76dc-4c3b-8aae-b429335083a3",
   "metadata": {
    "scrolled": true
   },
   "outputs": [],
   "source": [
    "from src.sac_lstm import SACAgent\n",
    "import torch\n",
    "# Hyperparameters\n",
    "action_dim = 25\n",
    "hidden_dim = 256\n",
    "lr = 3e-4\n",
    "batch_size = 64\n",
    "num_episodes = 1000\n",
    "\n",
    "# Device configuration\n",
    "device = torch.device('cuda' if torch.cuda.is_available() else 'cpu')\n",
    "device = 'cpu'\n",
    "\n",
    "# Initialize environment and agent\n",
    "agent = SACAgent(action_dim = action_dim, hidden_dim = hidden_dim, lr = lr,  device = device, num_cars = len(simulator.차량데이터))\n",
    "agent.load_model(path = './model/model.torch')\n",
    "\n",
    "day_경과 = 0\n",
    "\n",
    "best_score = 0\n",
    "# for 단계 in range(2):\n",
    "for 단계 in range(30, 200):\n",
    "    state = simulator.reset(선택최적 = 0, 선택rule = 'ruleX')\n",
    "    done = False\n",
    "    episode_reward = 0\n",
    "    \n",
    "    \n",
    "    while simulator.simulation_done == False:\n",
    "        actions = agent.select_action(state)\n",
    "        next_state, reward, done = simulator.step(actions)\n",
    "        \n",
    "        \n",
    "        if (done[0] == 1):\n",
    "            day_경과 += 1\n",
    "        if (done[0] == 1) & (simulator.simulation_done == False):\n",
    "            # s = next_state.pop(0)\n",
    "            next_state.insert(0, [next_state[0][0], [[] for _ in range(25)]])\n",
    "            \n",
    "            if day_경과 %10 == 0:\n",
    "                agent.log_q_values(init_states)\n",
    "                agent.plot_metrics()\n",
    "                \n",
    "                \n",
    "            tmp = 단계\n",
    "            if 단계 > 30:\n",
    "                tmp = 30\n",
    "            for i in range(tmp):\n",
    "                agent.store_transition((state[i], actions[i], reward[i], next_state.copy()[i], done[i]))\n",
    "    \n",
    "            \n",
    "            # s = next_state.pop(0)\n",
    "            # next_state.append([s[0], [[] for _ in range(25)]])\n",
    "            next_state.pop(0)\n",
    "        else:\n",
    "\n",
    "            tmp = 단계\n",
    "            if 단계 > 30:\n",
    "                tmp = 30\n",
    "            for i in range(tmp):\n",
    "                agent.store_transition((state[i], actions[i], reward[i], next_state.copy()[i], done[i]))\n",
    "        \n",
    "            \n",
    "        state = next_state\n",
    "        agent.update(batch_size, frame_idx = day_경과) \n",
    "        \n",
    "        episode_reward += reward[0]\n",
    "\n",
    "        if simulator.count_total_수업수 > 2000:\n",
    "            if best_score <= simulator.count_total_수업수/simulator.count_total_차량수:\n",
    "                best_score = simulator.count_total_수업수/simulator.count_total_차량수\n",
    "                agent.save_model(path = './model/model.torch')\n",
    "                print('saved best model')\n",
    "    \n",
    "    print(f\" Reward: {episode_reward}\")"
   ]
  },
  {
   "cell_type": "code",
   "execution_count": null,
   "id": "93446e99-cb8f-4d24-8cf4-09d6e9b17215",
   "metadata": {},
   "outputs": [],
   "source": [
    "simulator."
   ]
  },
  {
   "cell_type": "code",
   "execution_count": null,
   "id": "0634c6a5-9974-4861-855f-fab2b2e4403b",
   "metadata": {},
   "outputs": [],
   "source": [
    "len(agent.replay_buffer1)"
   ]
  },
  {
   "cell_type": "code",
   "execution_count": null,
   "id": "67ce1027-c9a5-4643-a41c-0fbb679fd23d",
   "metadata": {
    "scrolled": true
   },
   "outputs": [],
   "source": [
    "states, actions, rewards, next_states, dones, idxs, is_weights = agent.replay_buffer1.sample(21150)\n",
    "rewards"
   ]
  },
  {
   "cell_type": "code",
   "execution_count": null,
   "id": "71b403fa-5f2f-4731-89bf-f7e7b0e8232a",
   "metadata": {
    "scrolled": true
   },
   "outputs": [],
   "source": [
    "non_zero = []\n",
    "for i in range(len(rewards)):\n",
    "    if rewards[i] != 0:\n",
    "        print(i, rewards[i])\n",
    "        non_zero.append(i)"
   ]
  },
  {
   "cell_type": "code",
   "execution_count": null,
   "id": "1a02a7f2-58b3-4120-b43a-e7ca55e9e81e",
   "metadata": {},
   "outputs": [],
   "source": []
  },
  {
   "cell_type": "code",
   "execution_count": null,
   "id": "9998f41d-2ff6-48f0-8b6d-52680a7b6c56",
   "metadata": {
    "scrolled": true
   },
   "outputs": [],
   "source": [
    "a[0][0]"
   ]
  },
  {
   "cell_type": "code",
   "execution_count": null,
   "id": "ba8e4a93-1f73-4f02-bc3d-35fd7f7f17aa",
   "metadata": {},
   "outputs": [],
   "source": []
  },
  {
   "cell_type": "code",
   "execution_count": null,
   "id": "a7a94e0b-713b-4a5a-b4cc-3acac884a729",
   "metadata": {},
   "outputs": [],
   "source": [
    "asdg"
   ]
  },
  {
   "cell_type": "code",
   "execution_count": null,
   "id": "115bedab-3a05-495b-8abc-fb2921903174",
   "metadata": {},
   "outputs": [],
   "source": [
    "actions[i]"
   ]
  },
  {
   "cell_type": "code",
   "execution_count": null,
   "id": "fc0bc1ac-4187-4aeb-bf1e-03a933797a6f",
   "metadata": {
    "scrolled": true
   },
   "outputs": [],
   "source": [
    "state[i]"
   ]
  },
  {
   "cell_type": "code",
   "execution_count": null,
   "id": "c2776a3c-58a3-44b7-958f-8ae580cb3743",
   "metadata": {},
   "outputs": [],
   "source": [
    "reward"
   ]
  },
  {
   "cell_type": "code",
   "execution_count": null,
   "id": "50dcce1d-3aae-4750-bcbd-d7d3838202de",
   "metadata": {
    "scrolled": true
   },
   "outputs": [],
   "source": [
    "next_state.copy()[i]"
   ]
  },
  {
   "cell_type": "code",
   "execution_count": null,
   "id": "07f18c4c-49d9-498d-83f8-4e378ccdc23a",
   "metadata": {},
   "outputs": [],
   "source": [
    "done[i]"
   ]
  },
  {
   "cell_type": "code",
   "execution_count": null,
   "id": "ac16d6d7-cc1f-41ae-8e38-4112a690165a",
   "metadata": {
    "scrolled": true
   },
   "outputs": [],
   "source": [
    "agent.replay_buffer1.buffer[251][3]"
   ]
  },
  {
   "cell_type": "code",
   "execution_count": null,
   "id": "60b1e397-8492-426b-85d8-4b482137ac46",
   "metadata": {
    "scrolled": true
   },
   "outputs": [],
   "source": [
    "agent.replay_buffer1.buffer[250][0]"
   ]
  },
  {
   "cell_type": "code",
   "execution_count": null,
   "id": "5f606cc4-b9a7-44de-b1ee-c4873392ac53",
   "metadata": {
    "scrolled": true
   },
   "outputs": [],
   "source": [
    "agent.replay_buffer1.buffer[250][3]"
   ]
  },
  {
   "cell_type": "code",
   "execution_count": null,
   "id": "d8c1c607-15dd-4bad-bbf5-a705cf04aa84",
   "metadata": {
    "scrolled": true
   },
   "outputs": [],
   "source": [
    "agent.replay_buffer1.buffer[251][0]"
   ]
  },
  {
   "cell_type": "code",
   "execution_count": null,
   "id": "4f5bcb6e-7c1b-4b0c-8038-12d50fe3c70f",
   "metadata": {},
   "outputs": [],
   "source": [
    "        if self.count_오늘_수업수 != 0:\n",
    "            print(\"{:<15}\".format('하루 차량당 수업횟수')+': ' \"{:^6}\".format(round((self.count_오늘_수업수/self.count_오늘_차량수), 2)), \"{:<15}\".format('total 차량당 수업횟수')+': ' \"{:^6}\".format(round((self.count_total_수업수/self.count_total_차량수), 2)))"
   ]
  },
  {
   "cell_type": "code",
   "execution_count": null,
   "id": "2a4f7918-e60f-4c1c-95ea-5fff9a6c15c4",
   "metadata": {},
   "outputs": [],
   "source": [
    "agent.replay_buffer.tree.tree.shape"
   ]
  },
  {
   "cell_type": "code",
   "execution_count": null,
   "id": "e48a0e2c-1816-4a0d-8296-3e4afc1a38a8",
   "metadata": {},
   "outputs": [],
   "source": [
    "agent.replay_buffer.tree"
   ]
  },
  {
   "cell_type": "code",
   "execution_count": null,
   "id": "8078add1-8966-4092-8c4a-bcf0cf986708",
   "metadata": {},
   "outputs": [],
   "source": [
    "a = [1,2,3]*4\n",
    "b = [1,2,3,4]\n",
    "for i,j in zip(b,a):\n",
    "    print(i, j)"
   ]
  },
  {
   "cell_type": "code",
   "execution_count": null,
   "id": "5d8fb177-6bd6-482e-9453-cf3c94f86aa1",
   "metadata": {},
   "outputs": [],
   "source": [
    "zip(a,b)"
   ]
  },
  {
   "cell_type": "code",
   "execution_count": null,
   "id": "7a8c45cd-30b1-4702-8693-984919cfa343",
   "metadata": {},
   "outputs": [],
   "source": [
    "zip(*(1,2))"
   ]
  },
  {
   "cell_type": "code",
   "execution_count": null,
   "id": "a61ce96c-f42f-4e51-9dc6-a7f993e69da8",
   "metadata": {
    "scrolled": true
   },
   "outputs": [],
   "source": [
    "a = [[[0]*6, [[] for _ in range(25)]] for i in range(30)]"
   ]
  },
  {
   "cell_type": "code",
   "execution_count": null,
   "id": "fa68d3bc-a625-43ff-8875-937cb06f5b06",
   "metadata": {},
   "outputs": [],
   "source": [
    "len(a)"
   ]
  },
  {
   "cell_type": "code",
   "execution_count": null,
   "id": "b3a53efe-b19a-4779-a20e-f11f03d98b6d",
   "metadata": {},
   "outputs": [],
   "source": [
    "len(a[10])"
   ]
  },
  {
   "cell_type": "code",
   "execution_count": null,
   "id": "826ab1d6-cc03-42da-afc5-80b875196a1a",
   "metadata": {
    "scrolled": true
   },
   "outputs": [],
   "source": [
    "a[10]"
   ]
  },
  {
   "cell_type": "code",
   "execution_count": null,
   "id": "282c1398-1772-4a20-abde-c902f6c580fd",
   "metadata": {},
   "outputs": [],
   "source": [
    "len(state)"
   ]
  },
  {
   "cell_type": "code",
   "execution_count": null,
   "id": "d135c083-d2f8-40e7-a974-da23eb9f7430",
   "metadata": {
    "scrolled": true
   },
   "outputs": [],
   "source": [
    "state[10]"
   ]
  },
  {
   "cell_type": "code",
   "execution_count": null,
   "id": "0f2a154c-525c-4d4a-9639-98a0957582c0",
   "metadata": {},
   "outputs": [],
   "source": [
    "[0]*6"
   ]
  },
  {
   "cell_type": "code",
   "execution_count": null,
   "id": "5f0a6662-aaa7-4f57-a214-8707fbb50ebf",
   "metadata": {},
   "outputs": [],
   "source": [
    "import random\n",
    "batch_size = 64\n",
    "batch = random.sample(agent.replay_buffer, batch_size)\n",
    "states, actions, rewards, next_states, dones = zip(*batch)"
   ]
  },
  {
   "cell_type": "code",
   "execution_count": null,
   "id": "47533138-3e4f-4d22-9e4a-78145ac37e03",
   "metadata": {},
   "outputs": [],
   "source": [
    "len(states)"
   ]
  },
  {
   "cell_type": "code",
   "execution_count": null,
   "id": "9379fc61-6ccb-4c3a-828d-a4742c93e6e2",
   "metadata": {
    "scrolled": true
   },
   "outputs": [],
   "source": [
    "states[0]"
   ]
  },
  {
   "cell_type": "code",
   "execution_count": null,
   "id": "fae4d0e8-40e3-4225-b395-08f12df55113",
   "metadata": {},
   "outputs": [],
   "source": [
    "sadg"
   ]
  },
  {
   "cell_type": "code",
   "execution_count": null,
   "id": "0c265e48-349e-4d6e-9c38-9ee03c551a16",
   "metadata": {},
   "outputs": [],
   "source": [
    "# Initialize environment and agent\n",
    "agent = SACAgent(action_dim = action_dim, hidden_dim = hidden_dim, lr = lr,  device = device, num_cars = len(simulator.차량데이터))\n",
    "# agent.load_model(path = './model/model.torch')"
   ]
  },
  {
   "cell_type": "code",
   "execution_count": null,
   "id": "486b8216-8a2f-4ee6-96e2-0dc6619953a1",
   "metadata": {},
   "outputs": [],
   "source": [
    "import random\n",
    "batch = random.sample(agent.replay_buffer, batch_size)\n",
    "states, actions, rewards, next_states, dones = zip(*batch)"
   ]
  },
  {
   "cell_type": "code",
   "execution_count": null,
   "id": "954ed547-aab0-4ddb-8724-3eeb9a5f64a8",
   "metadata": {
    "scrolled": true
   },
   "outputs": [],
   "source": [
    "states"
   ]
  },
  {
   "cell_type": "code",
   "execution_count": null,
   "id": "d426e032-e4ea-4474-a1c8-1cde48525190",
   "metadata": {
    "scrolled": true
   },
   "outputs": [],
   "source": [
    "agent.critic1_losses"
   ]
  },
  {
   "cell_type": "code",
   "execution_count": null,
   "id": "056eb9f3-67aa-4365-a37d-a2bbf36369e6",
   "metadata": {
    "scrolled": true
   },
   "outputs": [],
   "source": [
    "agent.actor_losses"
   ]
  },
  {
   "cell_type": "code",
   "execution_count": null,
   "id": "a9c23f30-7913-4453-badf-dcf229f545e3",
   "metadata": {
    "scrolled": true
   },
   "outputs": [],
   "source": [
    "state = simulator.reset(선택최적 = 0, 선택rule = 'ruleX')\n",
    "actions = agent.select_action(state)\n",
    "actions"
   ]
  },
  {
   "cell_type": "code",
   "execution_count": null,
   "id": "e1434b68-1f2a-4259-80ca-4a471173b90c",
   "metadata": {},
   "outputs": [],
   "source": [
    "actions = []\n",
    "며칠뒤 = 30\n",
    "agent.load_model(path = './model/model.torch')\n",
    "from src.utils import state_to_tensor\n",
    "for i in range(며칠뒤):\n",
    "    agent.actor.eval()\n",
    "    # self.actors[i].eval()\n",
    "    with torch.no_grad():\n",
    "        continuous_vars, variable_length_tensors = state_to_tensor(state[i], agent.device, agent.num_cars)\n",
    "        mu, std = agent.actor(continuous_vars, variable_length_tensors)\n",
    "        # mu, std = self.actors[i](continuous_vars, variable_length_tensors)\n",
    "        dist = torch.distributions.Normal(mu, std)\n",
    "        action = dist.sample()\n",
    "        action = torch.tanh(action)\n",
    "    agent.actor.train()\n",
    "    # self.actors[i].train()\n",
    "    actions.append(action.cpu().numpy())"
   ]
  },
  {
   "cell_type": "code",
   "execution_count": null,
   "id": "54d48da4-cd29-4ca7-bf38-8413f2bfe5f2",
   "metadata": {},
   "outputs": [],
   "source": [
    "mu"
   ]
  },
  {
   "cell_type": "code",
   "execution_count": null,
   "id": "fd1d090c-0c7e-4f2b-85f7-7e661289a97d",
   "metadata": {},
   "outputs": [],
   "source": [
    "std"
   ]
  },
  {
   "cell_type": "code",
   "execution_count": null,
   "id": "3b5deb48-989b-4f05-bf89-97b20cbcba06",
   "metadata": {
    "scrolled": true
   },
   "outputs": [],
   "source": [
    "dist.sample()"
   ]
  },
  {
   "cell_type": "code",
   "execution_count": null,
   "id": "46b99e1d-1407-4711-908e-59848f6f801b",
   "metadata": {},
   "outputs": [],
   "source": [
    "action"
   ]
  },
  {
   "cell_type": "code",
   "execution_count": null,
   "id": "6300c81e-99fa-47f2-aebb-18442f434ea5",
   "metadata": {},
   "outputs": [],
   "source": [
    "simulator.차량데이터"
   ]
  },
  {
   "cell_type": "code",
   "execution_count": null,
   "id": "36d20896-eb0c-4c9b-88bd-458a404f9bde",
   "metadata": {},
   "outputs": [],
   "source": [
    "import pandas as pd\n"
   ]
  },
  {
   "cell_type": "code",
   "execution_count": null,
   "id": "113307c5-7fb9-43ea-b3c9-c9b2e655a50c",
   "metadata": {},
   "outputs": [],
   "source": [
    "simulator.위치데이터.sample(n=100)['count'].iloc[0]"
   ]
  },
  {
   "cell_type": "code",
   "execution_count": null,
   "id": "8fa9ee8d-10ff-4d9a-9a4c-fc924161e4b8",
   "metadata": {},
   "outputs": [],
   "source": [
    "len(state)"
   ]
  },
  {
   "cell_type": "code",
   "execution_count": null,
   "id": "887aeab1-3fb2-4a6c-a473-0e4c4465d0d4",
   "metadata": {
    "scrolled": true
   },
   "outputs": [],
   "source": [
    "for i in range(len(state)):\n",
    "    for j in range(len(state[i][1])):\n",
    "        if len(state[i][1][j]) >= 10:\n",
    "            print(i, j)\n",
    "            print(len(state[i][1][j]))\n",
    "state[0]"
   ]
  },
  {
   "cell_type": "code",
   "execution_count": null,
   "id": "ff66a4c9-644d-4926-94ce-044b5637dc93",
   "metadata": {},
   "outputs": [],
   "source": [
    "simulator.차량데이터"
   ]
  },
  {
   "cell_type": "code",
   "execution_count": null,
   "id": "d76f4cf0-8402-4daf-a13d-6e4e3e556a47",
   "metadata": {},
   "outputs": [],
   "source": [
    "import pandas as pd\n",
    "남예 = pd.DataFrame(simulator.남은예약)\n",
    "남예"
   ]
  },
  {
   "cell_type": "code",
   "execution_count": null,
   "id": "5175cc7b-3c30-4514-b994-2057b173def0",
   "metadata": {},
   "outputs": [],
   "source": [
    "state[0][1]"
   ]
  },
  {
   "cell_type": "code",
   "execution_count": null,
   "id": "7f37ba98-439b-4608-b1da-a857eb6870a0",
   "metadata": {
    "scrolled": true
   },
   "outputs": [],
   "source": [
    "import torch\n",
    "import torch.nn as nn\n",
    "import torch.optim as optim\n",
    "import torch.nn.functional as F\n",
    "from torch.distributions import Normal\n",
    "from src.sac_lstm import pad_variable_length_tensors\n",
    "x1 = torch.relu(nn.Linear(3, 128)(continuous_vars))  # (batch_size, 128)\n",
    "x1 = x1.unsqueeze(1).repeat(1, 10, 1)  # (batch_size, 10, 128) to match x2\n",
    "\n",
    "variable_length_tensors = pad_variable_length_tensors(variable_length_tensors, device)\n",
    "padded_seqs = torch.cat(variable_length_tensors, dim=0)  # (batch_size, max_length, 1)\n",
    "x2, _ = nn.LSTM(1, 128, batch_first=False)(padded_seqs)  # (batch_size, max_length, 128)"
   ]
  },
  {
   "cell_type": "code",
   "execution_count": null,
   "id": "783f52bf-6f1a-4048-8269-10f556b56a70",
   "metadata": {},
   "outputs": [],
   "source": [
    "x = torch.cat([x1, x2], dim=0)\n",
    "x = x.view(x.size(0), -1)\n",
    "x.size()"
   ]
  },
  {
   "cell_type": "code",
   "execution_count": null,
   "id": "5fd3be8f-438a-4ddc-b211-2b05bddfd798",
   "metadata": {},
   "outputs": [],
   "source": [
    "x1 = torch.relu(nn.Linear(3, 64)(continuous_vars))\n",
    "# x1 = x1.unsqueeze(0)  # 2차원 텐서로 확장"
   ]
  },
  {
   "cell_type": "code",
   "execution_count": null,
   "id": "f8f7a43c-0379-4ac5-b1c4-d1d7b5b9ae81",
   "metadata": {},
   "outputs": [],
   "source": [
    "x2 = x2.view(x2.size(0), -1)\n",
    "x2.size()"
   ]
  },
  {
   "cell_type": "code",
   "execution_count": null,
   "id": "559a8bab-48ff-4bf2-8e2d-0d6e7802ab1a",
   "metadata": {},
   "outputs": [],
   "source": [
    "x2.size()"
   ]
  },
  {
   "cell_type": "code",
   "execution_count": null,
   "id": "bfe6e4a4-e333-48cb-8d64-d9f90dcf2999",
   "metadata": {},
   "outputs": [],
   "source": [
    "x1.size()"
   ]
  },
  {
   "cell_type": "code",
   "execution_count": null,
   "id": "a5657e20-179e-4944-ba01-c8ac1f02b38a",
   "metadata": {},
   "outputs": [],
   "source": [
    "variable_length_tensors = pad_variable_length_tensors(variable_length_tensors, device)\n",
    "padded_seqs = torch.cat(variable_length_tensors, dim=0)\n",
    "lengths = torch.tensor([seq.size(1) for seq in variable_length_tensors]).to(device)\n",
    "packed_seqs = nn.utils.rnn.pack_padded_sequence(padded_seqs, lengths, batch_first=True, enforce_sorted=False).to(device)"
   ]
  },
  {
   "cell_type": "code",
   "execution_count": null,
   "id": "eb938e4e-3823-42f8-a325-f4f91a2aa47a",
   "metadata": {},
   "outputs": [],
   "source": [
    "packed_seqs"
   ]
  },
  {
   "cell_type": "code",
   "execution_count": null,
   "id": "538f35ad-c8a6-4057-bd40-04bed0b73e16",
   "metadata": {
    "scrolled": true
   },
   "outputs": [],
   "source": [
    "x2, _ = nn.LSTM(num_layers = 25, hidden_size = 25, input_size = 3, batch_first=False)(packed_seqs)"
   ]
  },
  {
   "cell_type": "code",
   "execution_count": null,
   "id": "3d014c38-8967-49b5-842e-4db4ede96f32",
   "metadata": {},
   "outputs": [],
   "source": [
    "def pad_variable_length_tensors(tensors, device):\n",
    "    max_length = max(tensor.size(1) for tensor in tensors)\n",
    "    padded_tensors = []\n",
    "    for tensor in tensors:\n",
    "        padding = torch.zeros((tensor.size(0), max_length - tensor.size(1)), dtype=torch.float32).to(device)\n",
    "        padded_tensor = torch.cat([tensor, padding], dim=1)\n",
    "        padded_tensors.append(padded_tensor)\n",
    "    return padded_tensors"
   ]
  },
  {
   "cell_type": "code",
   "execution_count": null,
   "id": "c1eb4fd8-692d-444f-9201-bac224e217e7",
   "metadata": {
    "scrolled": true
   },
   "outputs": [],
   "source": [
    "import time\n",
    "st = time.time()\n",
    "simulator.reset(선택최적 = -1, 선택rule = 'ruleX')\n",
    "for _ in range(40):\n",
    "    simulator.step(action = 1)\n",
    "print(time.time() - st)"
   ]
  },
  {
   "cell_type": "code",
   "execution_count": null,
   "id": "f826fca4-1bc8-4de7-979f-921428f84ef9",
   "metadata": {
    "scrolled": true
   },
   "outputs": [],
   "source": [
    "for _ in range(100):\n",
    "    state, reward, done = simulator.step(action = 1)\n",
    "    print(state)\n",
    "    print(reward)\n",
    "    print(done)"
   ]
  },
  {
   "cell_type": "code",
   "execution_count": null,
   "id": "b7ef331d-7980-4dff-b0db-23d9f0e53b0b",
   "metadata": {
    "scrolled": true
   },
   "outputs": [],
   "source": [
    "# import time\n",
    "# st = time.time()\n",
    "# simulator.reset(선택최적 = 0, 선택rule = 'ruleX')\n",
    "# while simulator.simulation_done == False:\n",
    "#     simulator.step(action = 1)\n",
    "# print(time.time() - st)"
   ]
  },
  {
   "cell_type": "code",
   "execution_count": null,
   "id": "c0d746c4-2f58-499f-9c5a-e60f7147cbd2",
   "metadata": {},
   "outputs": [],
   "source": [
    "sdg"
   ]
  },
  {
   "cell_type": "code",
   "execution_count": null,
   "id": "3191d403-73d0-408a-976c-7562b9d79e19",
   "metadata": {
    "scrolled": true
   },
   "outputs": [],
   "source": [
    "import time\n",
    "st = time.time()\n",
    "simulator.run(선택최적 = -1, 선택rule = 'ruleX')\n",
    "print(time.time() - st)"
   ]
  },
  {
   "cell_type": "code",
   "execution_count": null,
   "id": "299c3afe-9de7-4b81-ade5-de7846583909",
   "metadata": {
    "scrolled": true
   },
   "outputs": [],
   "source": []
  },
  {
   "cell_type": "code",
   "execution_count": null,
   "id": "74fab087-307a-41cb-9c52-d9d6a4ff2d30",
   "metadata": {},
   "outputs": [],
   "source": []
  },
  {
   "cell_type": "code",
   "execution_count": null,
   "id": "c3127a51-632a-4109-9e9e-16dce2744b7a",
   "metadata": {},
   "outputs": [],
   "source": []
  },
  {
   "cell_type": "code",
   "execution_count": null,
   "id": "d370bd5f-ee5c-44a2-9748-cb8506857aa8",
   "metadata": {},
   "outputs": [],
   "source": []
  },
  {
   "cell_type": "code",
   "execution_count": null,
   "id": "dd712ed1-6504-4cf8-804a-138fe678cfa6",
   "metadata": {},
   "outputs": [],
   "source": []
  },
  {
   "cell_type": "code",
   "execution_count": null,
   "id": "eb415d91-9847-4d2d-a1aa-23e971efb2df",
   "metadata": {},
   "outputs": [],
   "source": []
  }
 ],
 "metadata": {
  "kernelspec": {
   "display_name": "tgsociety",
   "language": "python",
   "name": "tgsociety"
  },
  "language_info": {
   "codemirror_mode": {
    "name": "ipython",
    "version": 3
   },
   "file_extension": ".py",
   "mimetype": "text/x-python",
   "name": "python",
   "nbconvert_exporter": "python",
   "pygments_lexer": "ipython3",
   "version": "3.9.19"
  }
 },
 "nbformat": 4,
 "nbformat_minor": 5
}
